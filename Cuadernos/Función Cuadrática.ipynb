{
 "cells": [
  {
   "cell_type": "markdown",
   "metadata": {},
   "source": [
    " <div style=\"background-color: #023324; \"><p><br></p>\n",
    "    <img src=\"https://www.uexternado.edu.co/wp-content/themes/externado_theme/images/logo-uec.svg\" alt=\"Universidad Externado\" width=\"150\" align=\"left\">\n",
    "         <h1  style=\"color: white;font-family:Lucida Sans Unicode, Lucida Grande, sans-serif\" align=\"center\">Función cuadrática\t      </h1> \n",
    "<p><br></p>\n",
    "</div>     \n",
    "<p><br><br></p>\n",
    "<p style=\"font-family:Lucida Sans Unicode, Lucida Grande, sans-serif\"> Las funciones lineales, vistas en la sección anterior, resultaron ser útiles para determinar funciones de costos y funciones de demanda. La pendiente y el corte en $y$ cobran un significado particularmente importante en cada una de esas funciones. Por un lado, en la función de costos, el corte en y corresponde a los costos fijos y la pendiente resulta ser el costo unitario del producto. Por el lado de la función de demanda,  la pendiente expresa la relación entre la disminución de precio y el aumento de la demanda.</p>\n",
    "    \n",
    "<p style=\"font-family:Lucida Sans Unicode, Lucida Grande, sans-serif\">    \n",
    "No obstante, al calcular otras funciones de interes, como el ingreso: $I=p\\cdot x$, salimos del mundo de lo lineal y tenemos una expresión cuadrática:  </p>\n",
    "    \n",
    "<p style=\"font-family:Lucida Sans Unicode, Lucida Grande, sans-serif;text-align:center\">$I=p\\cdot x=(-ax+b)\\cdot x=-ax^2+bx$ </p>\n",
    "    \n",
    "<p style=\"font-family:Lucida Sans Unicode, Lucida Grande, sans-serif\">    \n",
    "Veremos en este cuaderno algunos de los aspectos más importantes de esta función y algunas de sus aplicaciones más importantes. También construiremos algunos programas que nos permitan extraer información importante, como la gráfica y los cortes con los ejes, para finalmente dar una interpretación adecuada  que incluso nos permitirá tomar algunas decisiones importantes respecto a la comercialización de un producto. \n",
    "    </p>"
   ]
  },
  {
   "cell_type": "markdown",
   "metadata": {},
   "source": [
    "<h2 style=\"font-family:Lucida Sans Unicode, Lucida Grande, sans-serif\">¿Qué es una función cuadrática?</h2>\n",
    "<p style=\"font-family:Lucida Sans Unicode, Lucida Grande, sans-serif\">Una función cuadrática es una función de la forma:\n",
    "</p>\n",
    "<p style=\"font-family:Lucida Sans Unicode, Lucida Grande, sans-serif;text-align:center\">$f(x)=ax^2+bx+c$ </p>\n",
    "<p style=\"font-family:Lucida Sans Unicode, Lucida Grande, sans-serif\">con $a\\neq 0$. Es una función con dominio $\\mathbb{R}$, para determinar el rango de esta función es recomendable conocer la gráfica, usamos el paquete <code>sympy</code> y su comando  <code>plot</code>  para graficar esta función:\n",
    "</p>"
   ]
  },
  {
   "cell_type": "code",
   "execution_count": 1,
   "metadata": {},
   "outputs": [],
   "source": [
    "from sympy import *\n",
    "import matplotlib.pyplot as plt\n",
    "import numpy as np\n",
    "x=Symbol('x')\n",
    "%matplotlib notebook\n",
    "init_printing()"
   ]
  },
  {
   "cell_type": "code",
   "execution_count": 3,
   "metadata": {},
   "outputs": [
    {
     "data": {
      "application/javascript": [
       "/* Put everything inside the global mpl namespace */\n",
       "window.mpl = {};\n",
       "\n",
       "\n",
       "mpl.get_websocket_type = function() {\n",
       "    if (typeof(WebSocket) !== 'undefined') {\n",
       "        return WebSocket;\n",
       "    } else if (typeof(MozWebSocket) !== 'undefined') {\n",
       "        return MozWebSocket;\n",
       "    } else {\n",
       "        alert('Your browser does not have WebSocket support. ' +\n",
       "              'Please try Chrome, Safari or Firefox ≥ 6. ' +\n",
       "              'Firefox 4 and 5 are also supported but you ' +\n",
       "              'have to enable WebSockets in about:config.');\n",
       "    };\n",
       "}\n",
       "\n",
       "mpl.figure = function(figure_id, websocket, ondownload, parent_element) {\n",
       "    this.id = figure_id;\n",
       "\n",
       "    this.ws = websocket;\n",
       "\n",
       "    this.supports_binary = (this.ws.binaryType != undefined);\n",
       "\n",
       "    if (!this.supports_binary) {\n",
       "        var warnings = document.getElementById(\"mpl-warnings\");\n",
       "        if (warnings) {\n",
       "            warnings.style.display = 'block';\n",
       "            warnings.textContent = (\n",
       "                \"This browser does not support binary websocket messages. \" +\n",
       "                    \"Performance may be slow.\");\n",
       "        }\n",
       "    }\n",
       "\n",
       "    this.imageObj = new Image();\n",
       "\n",
       "    this.context = undefined;\n",
       "    this.message = undefined;\n",
       "    this.canvas = undefined;\n",
       "    this.rubberband_canvas = undefined;\n",
       "    this.rubberband_context = undefined;\n",
       "    this.format_dropdown = undefined;\n",
       "\n",
       "    this.image_mode = 'full';\n",
       "\n",
       "    this.root = $('<div/>');\n",
       "    this._root_extra_style(this.root)\n",
       "    this.root.attr('style', 'display: inline-block');\n",
       "\n",
       "    $(parent_element).append(this.root);\n",
       "\n",
       "    this._init_header(this);\n",
       "    this._init_canvas(this);\n",
       "    this._init_toolbar(this);\n",
       "\n",
       "    var fig = this;\n",
       "\n",
       "    this.waiting = false;\n",
       "\n",
       "    this.ws.onopen =  function () {\n",
       "            fig.send_message(\"supports_binary\", {value: fig.supports_binary});\n",
       "            fig.send_message(\"send_image_mode\", {});\n",
       "            if (mpl.ratio != 1) {\n",
       "                fig.send_message(\"set_dpi_ratio\", {'dpi_ratio': mpl.ratio});\n",
       "            }\n",
       "            fig.send_message(\"refresh\", {});\n",
       "        }\n",
       "\n",
       "    this.imageObj.onload = function() {\n",
       "            if (fig.image_mode == 'full') {\n",
       "                // Full images could contain transparency (where diff images\n",
       "                // almost always do), so we need to clear the canvas so that\n",
       "                // there is no ghosting.\n",
       "                fig.context.clearRect(0, 0, fig.canvas.width, fig.canvas.height);\n",
       "            }\n",
       "            fig.context.drawImage(fig.imageObj, 0, 0);\n",
       "        };\n",
       "\n",
       "    this.imageObj.onunload = function() {\n",
       "        fig.ws.close();\n",
       "    }\n",
       "\n",
       "    this.ws.onmessage = this._make_on_message_function(this);\n",
       "\n",
       "    this.ondownload = ondownload;\n",
       "}\n",
       "\n",
       "mpl.figure.prototype._init_header = function() {\n",
       "    var titlebar = $(\n",
       "        '<div class=\"ui-dialog-titlebar ui-widget-header ui-corner-all ' +\n",
       "        'ui-helper-clearfix\"/>');\n",
       "    var titletext = $(\n",
       "        '<div class=\"ui-dialog-title\" style=\"width: 100%; ' +\n",
       "        'text-align: center; padding: 3px;\"/>');\n",
       "    titlebar.append(titletext)\n",
       "    this.root.append(titlebar);\n",
       "    this.header = titletext[0];\n",
       "}\n",
       "\n",
       "\n",
       "\n",
       "mpl.figure.prototype._canvas_extra_style = function(canvas_div) {\n",
       "\n",
       "}\n",
       "\n",
       "\n",
       "mpl.figure.prototype._root_extra_style = function(canvas_div) {\n",
       "\n",
       "}\n",
       "\n",
       "mpl.figure.prototype._init_canvas = function() {\n",
       "    var fig = this;\n",
       "\n",
       "    var canvas_div = $('<div/>');\n",
       "\n",
       "    canvas_div.attr('style', 'position: relative; clear: both; outline: 0');\n",
       "\n",
       "    function canvas_keyboard_event(event) {\n",
       "        return fig.key_event(event, event['data']);\n",
       "    }\n",
       "\n",
       "    canvas_div.keydown('key_press', canvas_keyboard_event);\n",
       "    canvas_div.keyup('key_release', canvas_keyboard_event);\n",
       "    this.canvas_div = canvas_div\n",
       "    this._canvas_extra_style(canvas_div)\n",
       "    this.root.append(canvas_div);\n",
       "\n",
       "    var canvas = $('<canvas/>');\n",
       "    canvas.addClass('mpl-canvas');\n",
       "    canvas.attr('style', \"left: 0; top: 0; z-index: 0; outline: 0\")\n",
       "\n",
       "    this.canvas = canvas[0];\n",
       "    this.context = canvas[0].getContext(\"2d\");\n",
       "\n",
       "    var backingStore = this.context.backingStorePixelRatio ||\n",
       "\tthis.context.webkitBackingStorePixelRatio ||\n",
       "\tthis.context.mozBackingStorePixelRatio ||\n",
       "\tthis.context.msBackingStorePixelRatio ||\n",
       "\tthis.context.oBackingStorePixelRatio ||\n",
       "\tthis.context.backingStorePixelRatio || 1;\n",
       "\n",
       "    mpl.ratio = (window.devicePixelRatio || 1) / backingStore;\n",
       "\n",
       "    var rubberband = $('<canvas/>');\n",
       "    rubberband.attr('style', \"position: absolute; left: 0; top: 0; z-index: 1;\")\n",
       "\n",
       "    var pass_mouse_events = true;\n",
       "\n",
       "    canvas_div.resizable({\n",
       "        start: function(event, ui) {\n",
       "            pass_mouse_events = false;\n",
       "        },\n",
       "        resize: function(event, ui) {\n",
       "            fig.request_resize(ui.size.width, ui.size.height);\n",
       "        },\n",
       "        stop: function(event, ui) {\n",
       "            pass_mouse_events = true;\n",
       "            fig.request_resize(ui.size.width, ui.size.height);\n",
       "        },\n",
       "    });\n",
       "\n",
       "    function mouse_event_fn(event) {\n",
       "        if (pass_mouse_events)\n",
       "            return fig.mouse_event(event, event['data']);\n",
       "    }\n",
       "\n",
       "    rubberband.mousedown('button_press', mouse_event_fn);\n",
       "    rubberband.mouseup('button_release', mouse_event_fn);\n",
       "    // Throttle sequential mouse events to 1 every 20ms.\n",
       "    rubberband.mousemove('motion_notify', mouse_event_fn);\n",
       "\n",
       "    rubberband.mouseenter('figure_enter', mouse_event_fn);\n",
       "    rubberband.mouseleave('figure_leave', mouse_event_fn);\n",
       "\n",
       "    canvas_div.on(\"wheel\", function (event) {\n",
       "        event = event.originalEvent;\n",
       "        event['data'] = 'scroll'\n",
       "        if (event.deltaY < 0) {\n",
       "            event.step = 1;\n",
       "        } else {\n",
       "            event.step = -1;\n",
       "        }\n",
       "        mouse_event_fn(event);\n",
       "    });\n",
       "\n",
       "    canvas_div.append(canvas);\n",
       "    canvas_div.append(rubberband);\n",
       "\n",
       "    this.rubberband = rubberband;\n",
       "    this.rubberband_canvas = rubberband[0];\n",
       "    this.rubberband_context = rubberband[0].getContext(\"2d\");\n",
       "    this.rubberband_context.strokeStyle = \"#000000\";\n",
       "\n",
       "    this._resize_canvas = function(width, height) {\n",
       "        // Keep the size of the canvas, canvas container, and rubber band\n",
       "        // canvas in synch.\n",
       "        canvas_div.css('width', width)\n",
       "        canvas_div.css('height', height)\n",
       "\n",
       "        canvas.attr('width', width * mpl.ratio);\n",
       "        canvas.attr('height', height * mpl.ratio);\n",
       "        canvas.attr('style', 'width: ' + width + 'px; height: ' + height + 'px;');\n",
       "\n",
       "        rubberband.attr('width', width);\n",
       "        rubberband.attr('height', height);\n",
       "    }\n",
       "\n",
       "    // Set the figure to an initial 600x600px, this will subsequently be updated\n",
       "    // upon first draw.\n",
       "    this._resize_canvas(600, 600);\n",
       "\n",
       "    // Disable right mouse context menu.\n",
       "    $(this.rubberband_canvas).bind(\"contextmenu\",function(e){\n",
       "        return false;\n",
       "    });\n",
       "\n",
       "    function set_focus () {\n",
       "        canvas.focus();\n",
       "        canvas_div.focus();\n",
       "    }\n",
       "\n",
       "    window.setTimeout(set_focus, 100);\n",
       "}\n",
       "\n",
       "mpl.figure.prototype._init_toolbar = function() {\n",
       "    var fig = this;\n",
       "\n",
       "    var nav_element = $('<div/>');\n",
       "    nav_element.attr('style', 'width: 100%');\n",
       "    this.root.append(nav_element);\n",
       "\n",
       "    // Define a callback function for later on.\n",
       "    function toolbar_event(event) {\n",
       "        return fig.toolbar_button_onclick(event['data']);\n",
       "    }\n",
       "    function toolbar_mouse_event(event) {\n",
       "        return fig.toolbar_button_onmouseover(event['data']);\n",
       "    }\n",
       "\n",
       "    for(var toolbar_ind in mpl.toolbar_items) {\n",
       "        var name = mpl.toolbar_items[toolbar_ind][0];\n",
       "        var tooltip = mpl.toolbar_items[toolbar_ind][1];\n",
       "        var image = mpl.toolbar_items[toolbar_ind][2];\n",
       "        var method_name = mpl.toolbar_items[toolbar_ind][3];\n",
       "\n",
       "        if (!name) {\n",
       "            // put a spacer in here.\n",
       "            continue;\n",
       "        }\n",
       "        var button = $('<button/>');\n",
       "        button.addClass('ui-button ui-widget ui-state-default ui-corner-all ' +\n",
       "                        'ui-button-icon-only');\n",
       "        button.attr('role', 'button');\n",
       "        button.attr('aria-disabled', 'false');\n",
       "        button.click(method_name, toolbar_event);\n",
       "        button.mouseover(tooltip, toolbar_mouse_event);\n",
       "\n",
       "        var icon_img = $('<span/>');\n",
       "        icon_img.addClass('ui-button-icon-primary ui-icon');\n",
       "        icon_img.addClass(image);\n",
       "        icon_img.addClass('ui-corner-all');\n",
       "\n",
       "        var tooltip_span = $('<span/>');\n",
       "        tooltip_span.addClass('ui-button-text');\n",
       "        tooltip_span.html(tooltip);\n",
       "\n",
       "        button.append(icon_img);\n",
       "        button.append(tooltip_span);\n",
       "\n",
       "        nav_element.append(button);\n",
       "    }\n",
       "\n",
       "    var fmt_picker_span = $('<span/>');\n",
       "\n",
       "    var fmt_picker = $('<select/>');\n",
       "    fmt_picker.addClass('mpl-toolbar-option ui-widget ui-widget-content');\n",
       "    fmt_picker_span.append(fmt_picker);\n",
       "    nav_element.append(fmt_picker_span);\n",
       "    this.format_dropdown = fmt_picker[0];\n",
       "\n",
       "    for (var ind in mpl.extensions) {\n",
       "        var fmt = mpl.extensions[ind];\n",
       "        var option = $(\n",
       "            '<option/>', {selected: fmt === mpl.default_extension}).html(fmt);\n",
       "        fmt_picker.append(option);\n",
       "    }\n",
       "\n",
       "    // Add hover states to the ui-buttons\n",
       "    $( \".ui-button\" ).hover(\n",
       "        function() { $(this).addClass(\"ui-state-hover\");},\n",
       "        function() { $(this).removeClass(\"ui-state-hover\");}\n",
       "    );\n",
       "\n",
       "    var status_bar = $('<span class=\"mpl-message\"/>');\n",
       "    nav_element.append(status_bar);\n",
       "    this.message = status_bar[0];\n",
       "}\n",
       "\n",
       "mpl.figure.prototype.request_resize = function(x_pixels, y_pixels) {\n",
       "    // Request matplotlib to resize the figure. Matplotlib will then trigger a resize in the client,\n",
       "    // which will in turn request a refresh of the image.\n",
       "    this.send_message('resize', {'width': x_pixels, 'height': y_pixels});\n",
       "}\n",
       "\n",
       "mpl.figure.prototype.send_message = function(type, properties) {\n",
       "    properties['type'] = type;\n",
       "    properties['figure_id'] = this.id;\n",
       "    this.ws.send(JSON.stringify(properties));\n",
       "}\n",
       "\n",
       "mpl.figure.prototype.send_draw_message = function() {\n",
       "    if (!this.waiting) {\n",
       "        this.waiting = true;\n",
       "        this.ws.send(JSON.stringify({type: \"draw\", figure_id: this.id}));\n",
       "    }\n",
       "}\n",
       "\n",
       "\n",
       "mpl.figure.prototype.handle_save = function(fig, msg) {\n",
       "    var format_dropdown = fig.format_dropdown;\n",
       "    var format = format_dropdown.options[format_dropdown.selectedIndex].value;\n",
       "    fig.ondownload(fig, format);\n",
       "}\n",
       "\n",
       "\n",
       "mpl.figure.prototype.handle_resize = function(fig, msg) {\n",
       "    var size = msg['size'];\n",
       "    if (size[0] != fig.canvas.width || size[1] != fig.canvas.height) {\n",
       "        fig._resize_canvas(size[0], size[1]);\n",
       "        fig.send_message(\"refresh\", {});\n",
       "    };\n",
       "}\n",
       "\n",
       "mpl.figure.prototype.handle_rubberband = function(fig, msg) {\n",
       "    var x0 = msg['x0'] / mpl.ratio;\n",
       "    var y0 = (fig.canvas.height - msg['y0']) / mpl.ratio;\n",
       "    var x1 = msg['x1'] / mpl.ratio;\n",
       "    var y1 = (fig.canvas.height - msg['y1']) / mpl.ratio;\n",
       "    x0 = Math.floor(x0) + 0.5;\n",
       "    y0 = Math.floor(y0) + 0.5;\n",
       "    x1 = Math.floor(x1) + 0.5;\n",
       "    y1 = Math.floor(y1) + 0.5;\n",
       "    var min_x = Math.min(x0, x1);\n",
       "    var min_y = Math.min(y0, y1);\n",
       "    var width = Math.abs(x1 - x0);\n",
       "    var height = Math.abs(y1 - y0);\n",
       "\n",
       "    fig.rubberband_context.clearRect(\n",
       "        0, 0, fig.canvas.width / mpl.ratio, fig.canvas.height / mpl.ratio);\n",
       "\n",
       "    fig.rubberband_context.strokeRect(min_x, min_y, width, height);\n",
       "}\n",
       "\n",
       "mpl.figure.prototype.handle_figure_label = function(fig, msg) {\n",
       "    // Updates the figure title.\n",
       "    fig.header.textContent = msg['label'];\n",
       "}\n",
       "\n",
       "mpl.figure.prototype.handle_cursor = function(fig, msg) {\n",
       "    var cursor = msg['cursor'];\n",
       "    switch(cursor)\n",
       "    {\n",
       "    case 0:\n",
       "        cursor = 'pointer';\n",
       "        break;\n",
       "    case 1:\n",
       "        cursor = 'default';\n",
       "        break;\n",
       "    case 2:\n",
       "        cursor = 'crosshair';\n",
       "        break;\n",
       "    case 3:\n",
       "        cursor = 'move';\n",
       "        break;\n",
       "    }\n",
       "    fig.rubberband_canvas.style.cursor = cursor;\n",
       "}\n",
       "\n",
       "mpl.figure.prototype.handle_message = function(fig, msg) {\n",
       "    fig.message.textContent = msg['message'];\n",
       "}\n",
       "\n",
       "mpl.figure.prototype.handle_draw = function(fig, msg) {\n",
       "    // Request the server to send over a new figure.\n",
       "    fig.send_draw_message();\n",
       "}\n",
       "\n",
       "mpl.figure.prototype.handle_image_mode = function(fig, msg) {\n",
       "    fig.image_mode = msg['mode'];\n",
       "}\n",
       "\n",
       "mpl.figure.prototype.updated_canvas_event = function() {\n",
       "    // Called whenever the canvas gets updated.\n",
       "    this.send_message(\"ack\", {});\n",
       "}\n",
       "\n",
       "// A function to construct a web socket function for onmessage handling.\n",
       "// Called in the figure constructor.\n",
       "mpl.figure.prototype._make_on_message_function = function(fig) {\n",
       "    return function socket_on_message(evt) {\n",
       "        if (evt.data instanceof Blob) {\n",
       "            /* FIXME: We get \"Resource interpreted as Image but\n",
       "             * transferred with MIME type text/plain:\" errors on\n",
       "             * Chrome.  But how to set the MIME type?  It doesn't seem\n",
       "             * to be part of the websocket stream */\n",
       "            evt.data.type = \"image/png\";\n",
       "\n",
       "            /* Free the memory for the previous frames */\n",
       "            if (fig.imageObj.src) {\n",
       "                (window.URL || window.webkitURL).revokeObjectURL(\n",
       "                    fig.imageObj.src);\n",
       "            }\n",
       "\n",
       "            fig.imageObj.src = (window.URL || window.webkitURL).createObjectURL(\n",
       "                evt.data);\n",
       "            fig.updated_canvas_event();\n",
       "            fig.waiting = false;\n",
       "            return;\n",
       "        }\n",
       "        else if (typeof evt.data === 'string' && evt.data.slice(0, 21) == \"data:image/png;base64\") {\n",
       "            fig.imageObj.src = evt.data;\n",
       "            fig.updated_canvas_event();\n",
       "            fig.waiting = false;\n",
       "            return;\n",
       "        }\n",
       "\n",
       "        var msg = JSON.parse(evt.data);\n",
       "        var msg_type = msg['type'];\n",
       "\n",
       "        // Call the  \"handle_{type}\" callback, which takes\n",
       "        // the figure and JSON message as its only arguments.\n",
       "        try {\n",
       "            var callback = fig[\"handle_\" + msg_type];\n",
       "        } catch (e) {\n",
       "            console.log(\"No handler for the '\" + msg_type + \"' message type: \", msg);\n",
       "            return;\n",
       "        }\n",
       "\n",
       "        if (callback) {\n",
       "            try {\n",
       "                // console.log(\"Handling '\" + msg_type + \"' message: \", msg);\n",
       "                callback(fig, msg);\n",
       "            } catch (e) {\n",
       "                console.log(\"Exception inside the 'handler_\" + msg_type + \"' callback:\", e, e.stack, msg);\n",
       "            }\n",
       "        }\n",
       "    };\n",
       "}\n",
       "\n",
       "// from http://stackoverflow.com/questions/1114465/getting-mouse-location-in-canvas\n",
       "mpl.findpos = function(e) {\n",
       "    //this section is from http://www.quirksmode.org/js/events_properties.html\n",
       "    var targ;\n",
       "    if (!e)\n",
       "        e = window.event;\n",
       "    if (e.target)\n",
       "        targ = e.target;\n",
       "    else if (e.srcElement)\n",
       "        targ = e.srcElement;\n",
       "    if (targ.nodeType == 3) // defeat Safari bug\n",
       "        targ = targ.parentNode;\n",
       "\n",
       "    // jQuery normalizes the pageX and pageY\n",
       "    // pageX,Y are the mouse positions relative to the document\n",
       "    // offset() returns the position of the element relative to the document\n",
       "    var x = e.pageX - $(targ).offset().left;\n",
       "    var y = e.pageY - $(targ).offset().top;\n",
       "\n",
       "    return {\"x\": x, \"y\": y};\n",
       "};\n",
       "\n",
       "/*\n",
       " * return a copy of an object with only non-object keys\n",
       " * we need this to avoid circular references\n",
       " * http://stackoverflow.com/a/24161582/3208463\n",
       " */\n",
       "function simpleKeys (original) {\n",
       "  return Object.keys(original).reduce(function (obj, key) {\n",
       "    if (typeof original[key] !== 'object')\n",
       "        obj[key] = original[key]\n",
       "    return obj;\n",
       "  }, {});\n",
       "}\n",
       "\n",
       "mpl.figure.prototype.mouse_event = function(event, name) {\n",
       "    var canvas_pos = mpl.findpos(event)\n",
       "\n",
       "    if (name === 'button_press')\n",
       "    {\n",
       "        this.canvas.focus();\n",
       "        this.canvas_div.focus();\n",
       "    }\n",
       "\n",
       "    var x = canvas_pos.x * mpl.ratio;\n",
       "    var y = canvas_pos.y * mpl.ratio;\n",
       "\n",
       "    this.send_message(name, {x: x, y: y, button: event.button,\n",
       "                             step: event.step,\n",
       "                             guiEvent: simpleKeys(event)});\n",
       "\n",
       "    /* This prevents the web browser from automatically changing to\n",
       "     * the text insertion cursor when the button is pressed.  We want\n",
       "     * to control all of the cursor setting manually through the\n",
       "     * 'cursor' event from matplotlib */\n",
       "    event.preventDefault();\n",
       "    return false;\n",
       "}\n",
       "\n",
       "mpl.figure.prototype._key_event_extra = function(event, name) {\n",
       "    // Handle any extra behaviour associated with a key event\n",
       "}\n",
       "\n",
       "mpl.figure.prototype.key_event = function(event, name) {\n",
       "\n",
       "    // Prevent repeat events\n",
       "    if (name == 'key_press')\n",
       "    {\n",
       "        if (event.which === this._key)\n",
       "            return;\n",
       "        else\n",
       "            this._key = event.which;\n",
       "    }\n",
       "    if (name == 'key_release')\n",
       "        this._key = null;\n",
       "\n",
       "    var value = '';\n",
       "    if (event.ctrlKey && event.which != 17)\n",
       "        value += \"ctrl+\";\n",
       "    if (event.altKey && event.which != 18)\n",
       "        value += \"alt+\";\n",
       "    if (event.shiftKey && event.which != 16)\n",
       "        value += \"shift+\";\n",
       "\n",
       "    value += 'k';\n",
       "    value += event.which.toString();\n",
       "\n",
       "    this._key_event_extra(event, name);\n",
       "\n",
       "    this.send_message(name, {key: value,\n",
       "                             guiEvent: simpleKeys(event)});\n",
       "    return false;\n",
       "}\n",
       "\n",
       "mpl.figure.prototype.toolbar_button_onclick = function(name) {\n",
       "    if (name == 'download') {\n",
       "        this.handle_save(this, null);\n",
       "    } else {\n",
       "        this.send_message(\"toolbar_button\", {name: name});\n",
       "    }\n",
       "};\n",
       "\n",
       "mpl.figure.prototype.toolbar_button_onmouseover = function(tooltip) {\n",
       "    this.message.textContent = tooltip;\n",
       "};\n",
       "mpl.toolbar_items = [[\"Home\", \"Reset original view\", \"fa fa-home icon-home\", \"home\"], [\"Back\", \"Back to previous view\", \"fa fa-arrow-left icon-arrow-left\", \"back\"], [\"Forward\", \"Forward to next view\", \"fa fa-arrow-right icon-arrow-right\", \"forward\"], [\"\", \"\", \"\", \"\"], [\"Pan\", \"Pan axes with left mouse, zoom with right\", \"fa fa-arrows icon-move\", \"pan\"], [\"Zoom\", \"Zoom to rectangle\", \"fa fa-square-o icon-check-empty\", \"zoom\"], [\"\", \"\", \"\", \"\"], [\"Download\", \"Download plot\", \"fa fa-floppy-o icon-save\", \"download\"]];\n",
       "\n",
       "mpl.extensions = [\"eps\", \"jpeg\", \"pdf\", \"png\", \"ps\", \"raw\", \"svg\", \"tif\"];\n",
       "\n",
       "mpl.default_extension = \"png\";var comm_websocket_adapter = function(comm) {\n",
       "    // Create a \"websocket\"-like object which calls the given IPython comm\n",
       "    // object with the appropriate methods. Currently this is a non binary\n",
       "    // socket, so there is still some room for performance tuning.\n",
       "    var ws = {};\n",
       "\n",
       "    ws.close = function() {\n",
       "        comm.close()\n",
       "    };\n",
       "    ws.send = function(m) {\n",
       "        //console.log('sending', m);\n",
       "        comm.send(m);\n",
       "    };\n",
       "    // Register the callback with on_msg.\n",
       "    comm.on_msg(function(msg) {\n",
       "        //console.log('receiving', msg['content']['data'], msg);\n",
       "        // Pass the mpl event to the overridden (by mpl) onmessage function.\n",
       "        ws.onmessage(msg['content']['data'])\n",
       "    });\n",
       "    return ws;\n",
       "}\n",
       "\n",
       "mpl.mpl_figure_comm = function(comm, msg) {\n",
       "    // This is the function which gets called when the mpl process\n",
       "    // starts-up an IPython Comm through the \"matplotlib\" channel.\n",
       "\n",
       "    var id = msg.content.data.id;\n",
       "    // Get hold of the div created by the display call when the Comm\n",
       "    // socket was opened in Python.\n",
       "    var element = $(\"#\" + id);\n",
       "    var ws_proxy = comm_websocket_adapter(comm)\n",
       "\n",
       "    function ondownload(figure, format) {\n",
       "        window.open(figure.imageObj.src);\n",
       "    }\n",
       "\n",
       "    var fig = new mpl.figure(id, ws_proxy,\n",
       "                           ondownload,\n",
       "                           element.get(0));\n",
       "\n",
       "    // Call onopen now - mpl needs it, as it is assuming we've passed it a real\n",
       "    // web socket which is closed, not our websocket->open comm proxy.\n",
       "    ws_proxy.onopen();\n",
       "\n",
       "    fig.parent_element = element.get(0);\n",
       "    fig.cell_info = mpl.find_output_cell(\"<div id='\" + id + \"'></div>\");\n",
       "    if (!fig.cell_info) {\n",
       "        console.error(\"Failed to find cell for figure\", id, fig);\n",
       "        return;\n",
       "    }\n",
       "\n",
       "    var output_index = fig.cell_info[2]\n",
       "    var cell = fig.cell_info[0];\n",
       "\n",
       "};\n",
       "\n",
       "mpl.figure.prototype.handle_close = function(fig, msg) {\n",
       "    var width = fig.canvas.width/mpl.ratio\n",
       "    fig.root.unbind('remove')\n",
       "\n",
       "    // Update the output cell to use the data from the current canvas.\n",
       "    fig.push_to_output();\n",
       "    var dataURL = fig.canvas.toDataURL();\n",
       "    // Re-enable the keyboard manager in IPython - without this line, in FF,\n",
       "    // the notebook keyboard shortcuts fail.\n",
       "    IPython.keyboard_manager.enable()\n",
       "    $(fig.parent_element).html('<img src=\"' + dataURL + '\" width=\"' + width + '\">');\n",
       "    fig.close_ws(fig, msg);\n",
       "}\n",
       "\n",
       "mpl.figure.prototype.close_ws = function(fig, msg){\n",
       "    fig.send_message('closing', msg);\n",
       "    // fig.ws.close()\n",
       "}\n",
       "\n",
       "mpl.figure.prototype.push_to_output = function(remove_interactive) {\n",
       "    // Turn the data on the canvas into data in the output cell.\n",
       "    var width = this.canvas.width/mpl.ratio\n",
       "    var dataURL = this.canvas.toDataURL();\n",
       "    this.cell_info[1]['text/html'] = '<img src=\"' + dataURL + '\" width=\"' + width + '\">';\n",
       "}\n",
       "\n",
       "mpl.figure.prototype.updated_canvas_event = function() {\n",
       "    // Tell IPython that the notebook contents must change.\n",
       "    IPython.notebook.set_dirty(true);\n",
       "    this.send_message(\"ack\", {});\n",
       "    var fig = this;\n",
       "    // Wait a second, then push the new image to the DOM so\n",
       "    // that it is saved nicely (might be nice to debounce this).\n",
       "    setTimeout(function () { fig.push_to_output() }, 1000);\n",
       "}\n",
       "\n",
       "mpl.figure.prototype._init_toolbar = function() {\n",
       "    var fig = this;\n",
       "\n",
       "    var nav_element = $('<div/>');\n",
       "    nav_element.attr('style', 'width: 100%');\n",
       "    this.root.append(nav_element);\n",
       "\n",
       "    // Define a callback function for later on.\n",
       "    function toolbar_event(event) {\n",
       "        return fig.toolbar_button_onclick(event['data']);\n",
       "    }\n",
       "    function toolbar_mouse_event(event) {\n",
       "        return fig.toolbar_button_onmouseover(event['data']);\n",
       "    }\n",
       "\n",
       "    for(var toolbar_ind in mpl.toolbar_items){\n",
       "        var name = mpl.toolbar_items[toolbar_ind][0];\n",
       "        var tooltip = mpl.toolbar_items[toolbar_ind][1];\n",
       "        var image = mpl.toolbar_items[toolbar_ind][2];\n",
       "        var method_name = mpl.toolbar_items[toolbar_ind][3];\n",
       "\n",
       "        if (!name) { continue; };\n",
       "\n",
       "        var button = $('<button class=\"btn btn-default\" href=\"#\" title=\"' + name + '\"><i class=\"fa ' + image + ' fa-lg\"></i></button>');\n",
       "        button.click(method_name, toolbar_event);\n",
       "        button.mouseover(tooltip, toolbar_mouse_event);\n",
       "        nav_element.append(button);\n",
       "    }\n",
       "\n",
       "    // Add the status bar.\n",
       "    var status_bar = $('<span class=\"mpl-message\" style=\"text-align:right; float: right;\"/>');\n",
       "    nav_element.append(status_bar);\n",
       "    this.message = status_bar[0];\n",
       "\n",
       "    // Add the close button to the window.\n",
       "    var buttongrp = $('<div class=\"btn-group inline pull-right\"></div>');\n",
       "    var button = $('<button class=\"btn btn-mini btn-primary\" href=\"#\" title=\"Stop Interaction\"><i class=\"fa fa-power-off icon-remove icon-large\"></i></button>');\n",
       "    button.click(function (evt) { fig.handle_close(fig, {}); } );\n",
       "    button.mouseover('Stop Interaction', toolbar_mouse_event);\n",
       "    buttongrp.append(button);\n",
       "    var titlebar = this.root.find($('.ui-dialog-titlebar'));\n",
       "    titlebar.prepend(buttongrp);\n",
       "}\n",
       "\n",
       "mpl.figure.prototype._root_extra_style = function(el){\n",
       "    var fig = this\n",
       "    el.on(\"remove\", function(){\n",
       "\tfig.close_ws(fig, {});\n",
       "    });\n",
       "}\n",
       "\n",
       "mpl.figure.prototype._canvas_extra_style = function(el){\n",
       "    // this is important to make the div 'focusable\n",
       "    el.attr('tabindex', 0)\n",
       "    // reach out to IPython and tell the keyboard manager to turn it's self\n",
       "    // off when our div gets focus\n",
       "\n",
       "    // location in version 3\n",
       "    if (IPython.notebook.keyboard_manager) {\n",
       "        IPython.notebook.keyboard_manager.register_events(el);\n",
       "    }\n",
       "    else {\n",
       "        // location in version 2\n",
       "        IPython.keyboard_manager.register_events(el);\n",
       "    }\n",
       "\n",
       "}\n",
       "\n",
       "mpl.figure.prototype._key_event_extra = function(event, name) {\n",
       "    var manager = IPython.notebook.keyboard_manager;\n",
       "    if (!manager)\n",
       "        manager = IPython.keyboard_manager;\n",
       "\n",
       "    // Check for shift+enter\n",
       "    if (event.shiftKey && event.which == 13) {\n",
       "        this.canvas_div.blur();\n",
       "        event.shiftKey = false;\n",
       "        // Send a \"J\" for go to next cell\n",
       "        event.which = 74;\n",
       "        event.keyCode = 74;\n",
       "        manager.command_mode();\n",
       "        manager.handle_keydown(event);\n",
       "    }\n",
       "}\n",
       "\n",
       "mpl.figure.prototype.handle_save = function(fig, msg) {\n",
       "    fig.ondownload(fig, null);\n",
       "}\n",
       "\n",
       "\n",
       "mpl.find_output_cell = function(html_output) {\n",
       "    // Return the cell and output element which can be found *uniquely* in the notebook.\n",
       "    // Note - this is a bit hacky, but it is done because the \"notebook_saving.Notebook\"\n",
       "    // IPython event is triggered only after the cells have been serialised, which for\n",
       "    // our purposes (turning an active figure into a static one), is too late.\n",
       "    var cells = IPython.notebook.get_cells();\n",
       "    var ncells = cells.length;\n",
       "    for (var i=0; i<ncells; i++) {\n",
       "        var cell = cells[i];\n",
       "        if (cell.cell_type === 'code'){\n",
       "            for (var j=0; j<cell.output_area.outputs.length; j++) {\n",
       "                var data = cell.output_area.outputs[j];\n",
       "                if (data.data) {\n",
       "                    // IPython >= 3 moved mimebundle to data attribute of output\n",
       "                    data = data.data;\n",
       "                }\n",
       "                if (data['text/html'] == html_output) {\n",
       "                    return [cell, data, j];\n",
       "                }\n",
       "            }\n",
       "        }\n",
       "    }\n",
       "}\n",
       "\n",
       "// Register the function which deals with the matplotlib target/channel.\n",
       "// The kernel may be null if the page has been refreshed.\n",
       "if (IPython.notebook.kernel != null) {\n",
       "    IPython.notebook.kernel.comm_manager.register_target('matplotlib', mpl.mpl_figure_comm);\n",
       "}\n"
      ],
      "text/plain": [
       "<IPython.core.display.Javascript object>"
      ]
     },
     "metadata": {},
     "output_type": "display_data"
    },
    {
     "data": {
      "text/html": [
       "<img src=\"data:image/png;base64,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\" width=\"640\">"
      ],
      "text/plain": [
       "<IPython.core.display.HTML object>"
      ]
     },
     "metadata": {},
     "output_type": "display_data"
    },
    {
     "data": {
      "text/plain": [
       "<sympy.plotting.plot.Plot at 0x23a53738588>"
      ]
     },
     "execution_count": 3,
     "metadata": {},
     "output_type": "execute_result"
    }
   ],
   "source": [
    "f=x**2-6*x +8\n",
    "plot(f,(x,-2,8),title='$f(x)='+latex(f)+'$')"
   ]
  },
  {
   "cell_type": "markdown",
   "metadata": {},
   "source": [
    "<p style=\"font-family:Lucida Sans Unicode, Lucida Grande, sans-serif\"> Usando el paquete <code>ipywidgets</code> creamos un módulo interactivo de funciones cuadráticas, los interesados en crear herramientas así pueden consultar  <a href=\"https://ipywidgets.readthedocs.io/en/stable/\">[ipywidgets]</a>. \n",
    "</p>\n"
   ]
  },
  {
   "cell_type": "code",
   "execution_count": 4,
   "metadata": {},
   "outputs": [
    {
     "data": {
      "application/vnd.jupyter.widget-view+json": {
       "model_id": "b863b0daf166436792e7166b7711069f",
       "version_major": 2,
       "version_minor": 0
      },
      "text/plain": [
       "interactive(children=(FloatText(value=1.0, description='a'), FloatText(value=1.0, description='b'), FloatText(…"
      ]
     },
     "metadata": {},
     "output_type": "display_data"
    },
    {
     "data": {
      "text/plain": [
       "<function __main__.cuadratica(a, b, c)>"
      ]
     },
     "execution_count": 4,
     "metadata": {},
     "output_type": "execute_result"
    }
   ],
   "source": [
    "from ipywidgets import interact,widgets\n",
    "%matplotlib inline\n",
    "def cuadratica(a,b,c):\n",
    "    x=Symbol('x')\n",
    "    f=a*x**2+b*x+c\n",
    "    xv=-b/(2*a)\n",
    "    xx= np.linspace(-5+xv, 5+xv, 100)\n",
    "    yy = lambdify(x, f)(xx)\n",
    "    fig=plt.figure()\n",
    "    ax=plt.gca()\n",
    "    ax.plot(xx,np.transpose(yy),color=\"green\")\n",
    "    ax.plot([float(xv)],[float(f.subs(x,xv))],'or')\n",
    "    ax.grid(True) \n",
    "    ax.spines['left'].set_position('zero')\n",
    "    ax.spines['right'].set_color('none')\n",
    "    ax.spines['bottom'].set_position('zero')\n",
    "    ax.spines['top'].set_color('none')\n",
    "    plt.title('$f(x)='+latex(f)+'$')\n",
    "    plt.show()\n",
    "    return\n",
    "interact(cuadratica,a=widgets.FloatText(value=1),b=widgets.FloatText(value=1),c=widgets.FloatText(value=1))"
   ]
  },
  {
   "cell_type": "markdown",
   "metadata": {},
   "source": [
    "<div style=\"font-family:Lucida Sans Unicode, Lucida Grande, sans-serif\">\n",
    "<p > Las gráficas de las funciones cuadráticas se conocen como parábolas, observen que se destaca un punto en rojo que expresa un extremo (mínimo o máximo) en la gráfica de la función. Este punto se conoce como vértice y más adelante lo usaremos, precisamente para maximizar o minimizar funciones. </p>\n",
    "\n",
    "<p > Otra observación importante es que según el valor de $a$ podemos determinar hacia donde abre la parábola: \n",
    "\n",
    "<br><em>si $a>0$ la parabola abre hacia arriba, </em></br>\n",
    "<br><em>si $a<0$ la parabola abre hacia abajo. </em></br>\n",
    "<br></br>\n",
    "\n",
    "</p>\n",
    "</div>\n"
   ]
  },
  {
   "cell_type": "code",
   "execution_count": 4,
   "metadata": {},
   "outputs": [
    {
     "data": {
      "image/png": "[encoded data removed]",
      "text/plain": [
       "<Figure size 432x288 with 1 Axes>"
      ]
     },
     "metadata": {
      "needs_background": "light"
     },
     "output_type": "display_data"
    }
   ],
   "source": [
    "cuadratica(-2,3,4) ## Abre hacia abajo"
   ]
  },
  {
   "cell_type": "code",
   "execution_count": 5,
   "metadata": {},
   "outputs": [
    {
     "data": {
      "image/png": "[encoded data removed]",
      "text/plain": [
       "<Figure size 432x288 with 1 Axes>"
      ]
     },
     "metadata": {
      "needs_background": "light"
     },
     "output_type": "display_data"
    }
   ],
   "source": [
    "cuadratica(1,1,3) ## Abre hacia arriba"
   ]
  },
  {
   "cell_type": "markdown",
   "metadata": {},
   "source": [
    "\n",
    "<div style=\"font-family:Lucida Sans Unicode, Lucida Grande, sans-serif\">\n",
    "\n",
    "<h2> El vértice de una parábola</h2>\n",
    "\n",
    "<p> Para determinar el vértice de la parábola es necesario recordar que cada vez que indicamos la posición de un punto debemos indicar la coordenada en $x$ y la coordenada en $y$. Supongamos que la función cuadrática está dada por $f(x)=ax^2+bx+c$, entonces las coordenadas del vértice son:   </p>\n",
    "\n",
    "<p style=\"text-align:center\"> $V_x=-\\cfrac{b}{2a} $  &nbsp;&nbsp;&nbsp;&nbsp; y &nbsp;&nbsp;    $ V_y=\\cfrac{-b^2+4ac}{4a}$ </p>\n",
    "\n",
    "<p >Un hecho obvio es que $f\\left(-\\cfrac{b}{2a}\\right)=\\cfrac{-b^2+4ac}{4a}$. Explique.    </p>\n",
    "\n",
    "<p>Hagamos una función muy sencilla que determine el vértice de una función, es claro que si $a>0$ el vértice indica un mínimo de la función; mientras que si $a<0$ el vértice resulta ser un máximo:\n",
    "    </p>\n",
    "</div>"
   ]
  },
  {
   "cell_type": "code",
   "execution_count": 6,
   "metadata": {
    "scrolled": true
   },
   "outputs": [
    {
     "data": {
      "image/png": "[encoded data removed]",
      "text/plain": [
       "<Figure size 432x288 with 1 Axes>"
      ]
     },
     "metadata": {
      "needs_background": "light"
     },
     "output_type": "display_data"
    }
   ],
   "source": [
    "cuadratica(-1,2,3) ## El vértice es un máximo"
   ]
  },
  {
   "cell_type": "code",
   "execution_count": 7,
   "metadata": {},
   "outputs": [
    {
     "data": {
      "image/png": "[encoded data removed]",
      "text/plain": [
       "<Figure size 432x288 with 1 Axes>"
      ]
     },
     "metadata": {
      "needs_background": "light"
     },
     "output_type": "display_data"
    }
   ],
   "source": [
    "cuadratica(1,3,2)  ##El vértice es un mínimo"
   ]
  },
  {
   "cell_type": "code",
   "execution_count": 8,
   "metadata": {},
   "outputs": [],
   "source": [
    "## Programa calcula vértices\n",
    "def calculavertice(a,b,c):\n",
    "    Vx=-b/(2*a)\n",
    "    Vy=a*(Vx)**2+b*Vx+c\n",
    "    print(\"El vértice de la parábola es (\",Vx,\",\",Vy,\")\")\n",
    "    return [Vx,Vy]\n",
    "    \n",
    "    "
   ]
  },
  {
   "cell_type": "code",
   "execution_count": 5,
   "metadata": {},
   "outputs": [],
   "source": [
    "def calculavertice2(a,b,c):\n",
    "    Vx=-b/(2*a)\n",
    "    Vy=(-b**2+4*a*c)/4*a\n",
    "    print(\"El vértice de la parábola es (\",Vx,\",\",Vy,\")\")\n",
    "    return [Vx,Vy]"
   ]
  },
  {
   "cell_type": "code",
   "execution_count": 6,
   "metadata": {},
   "outputs": [
    {
     "name": "stdout",
     "output_type": "stream",
     "text": [
      "El vértice de la parábola es ( -1.5 , -0.25 )\n"
     ]
    },
    {
     "data": {
      "image/png": "[encoded data removed]",
      "text/latex": [
       "$\\displaystyle \\left[ -1.5, \\  -0.25\\right]$"
      ],
      "text/plain": [
       "[-1.5, -0.25]"
      ]
     },
     "execution_count": 6,
     "metadata": {},
     "output_type": "execute_result"
    }
   ],
   "source": [
    "calculavertice2(1,3,2)"
   ]
  },
  {
   "cell_type": "code",
   "execution_count": 10,
   "metadata": {},
   "outputs": [
    {
     "name": "stdout",
     "output_type": "stream",
     "text": [
      "El vértice de la parábola es ( 1.0 , 4.0 )\n"
     ]
    },
    {
     "data": {
      "image/png": "[encoded data removed]",
      "text/latex": [
       "$\\displaystyle \\left[ 1.0, \\  4.0\\right]$"
      ],
      "text/plain": [
       "[1.0, 4.0]"
      ]
     },
     "execution_count": 10,
     "metadata": {},
     "output_type": "execute_result"
    }
   ],
   "source": [
    "(calculavertice(-1,2,3)"
   ]
  },
  {
   "cell_type": "markdown",
   "metadata": {},
   "source": [
    "\n",
    "<div style=\"font-family:Lucida Sans Unicode, Lucida Grande, sans-serif\">\n",
    "\n",
    "<h2> Aplicaciones de funciones cuadráticas en administración</h2>\n",
    "\n",
    "<h3>Función de Ingreso</h3>\n",
    "\n",
    "<p> Una primera aplicación de las funciones cuadráticas se puede ver en el inicio de esta sección. Precisamente, asumiendo una demanda lineal, tenemos que el ingreso en términos de la cantidad de productos resulta ser una función cuadrática. Hagamos una función muy simple que reciba una función de demanda en términos de $x$ y nos describa la función de ingreso:</p></div>"
   ]
  },
  {
   "cell_type": "code",
   "execution_count": 24,
   "metadata": {},
   "outputs": [
    {
     "data": {
      "image/png": "[encoded data removed]",
      "text/latex": [
       "$\\displaystyle \\left[ 40000\\right]$"
      ],
      "text/plain": [
       "[40000]"
      ]
     },
     "execution_count": 24,
     "metadata": {},
     "output_type": "execute_result"
    }
   ],
   "source": [
    "p=-2*x+80000\n",
    "solve(Eq(p,0))"
   ]
  },
  {
   "cell_type": "code",
   "execution_count": 25,
   "metadata": {},
   "outputs": [],
   "source": [
    "## Gráficadora de funciones de demanda\n",
    "def graficademanda(p):\n",
    "    x1=solve(Eq(p,0))[0]\n",
    "    plot(p,(x,0,x1))\n",
    "    return\n",
    "    "
   ]
  },
  {
   "cell_type": "code",
   "execution_count": 31,
   "metadata": {},
   "outputs": [
    {
     "data": {
      "image/png": "[encoded data removed]",
      "text/plain": [
       "<Figure size 432x288 with 1 Axes>"
      ]
     },
     "metadata": {
      "needs_background": "light"
     },
     "output_type": "display_data"
    }
   ],
   "source": [
    "graficademanda(-3*x+40000)"
   ]
  },
  {
   "cell_type": "code",
   "execution_count": 9,
   "metadata": {},
   "outputs": [],
   "source": [
    "## FUNCIÓN DE INGRESO\n",
    "def ingreso(p): #p es la función de demanda\n",
    "    x=Symbol('x')\n",
    "    I=expand(p*x)\n",
    "    print(\"Para la función de demanda \",p,\"la función de ingreso es\",I)\n",
    "    return I"
   ]
  },
  {
   "cell_type": "code",
   "execution_count": 32,
   "metadata": {},
   "outputs": [
    {
     "name": "stdout",
     "output_type": "stream",
     "text": [
      "Para la función de demanda  80000 - 2*x la función de ingreso es -2*x**2 + 80000*x\n"
     ]
    },
    {
     "data": {
      "image/png": "[encoded data removed]",
      "text/latex": [
       "$\\displaystyle - 2 x^{2} + 80000 x$"
      ],
      "text/plain": [
       "     2          \n",
       "- 2⋅x  + 80000⋅x"
      ]
     },
     "execution_count": 32,
     "metadata": {},
     "output_type": "execute_result"
    }
   ],
   "source": [
    "ingreso(-2*x+80000)"
   ]
  },
  {
   "cell_type": "markdown",
   "metadata": {},
   "source": [
    "\n",
    "<div style=\"font-family:Lucida Sans Unicode, Lucida Grande, sans-serif\">\n",
    "<p> Agreguemos una gráfica en nuestra función ingreso:\n",
    "</p>\n",
    "</div>"
   ]
  },
  {
   "cell_type": "code",
   "execution_count": 37,
   "metadata": {},
   "outputs": [],
   "source": [
    "## FUNCIÓN DE INGRESO CON GRÁFICA\n",
    "def ingreso(p): #p es la función de demanda\n",
    "    x=Symbol('x')\n",
    "    I=expand(p*x)\n",
    "    x1=solve(p)[0]\n",
    "    plot(I,(x,0,x1))\n",
    "    print(\"Para la función de demanda \",p,\"la función de ingreso es\",I)\n",
    "    return I"
   ]
  },
  {
   "cell_type": "code",
   "execution_count": 38,
   "metadata": {},
   "outputs": [
    {
     "data": {
      "image/png": "[encoded data removed]",
      "text/plain": [
       "<Figure size 432x288 with 1 Axes>"
      ]
     },
     "metadata": {
      "needs_background": "light"
     },
     "output_type": "display_data"
    },
    {
     "name": "stdout",
     "output_type": "stream",
     "text": [
      "Para la función de demanda  80000 - 2*x la función de ingreso es -2*x**2 + 80000*x\n"
     ]
    },
    {
     "data": {
      "image/png": "[encoded data removed]",
      "text/latex": [
       "$\\displaystyle - 2 x^{2} + 80000 x$"
      ],
      "text/plain": [
       "     2          \n",
       "- 2⋅x  + 80000⋅x"
      ]
     },
     "execution_count": 38,
     "metadata": {},
     "output_type": "execute_result"
    }
   ],
   "source": [
    "ingreso(-2*x+80000)"
   ]
  },
  {
   "cell_type": "markdown",
   "metadata": {
    "solution2": "shown",
    "solution2_first": true
   },
   "source": [
    "<div style=\"font-family:Lucida Sans Unicode, Lucida Grande, sans-serif\">\n",
    "<p> Si buscamos el vértice podemos determinar los valores máximo de ingreso de acuerdo a esta función de demanda. \n",
    "    </p>\n",
    "    <p>Use las siguientes identidades para determinar una función útil que encuentre el vértice de la parabola e interprete el resultado a partir de la función de demanda:\n",
    " \n",
    "<br>Si $f(x)=ax^2+bx+c$ entonces:</br> \n",
    "<ul> <li> $c=f(0)$</li>\n",
    "<li> $b=g(0)$, con $g(x)=f(x)-c$</li></ul>\n",
    "\n",
    "</p>\n",
    "</div>"
   ]
  },
  {
   "cell_type": "code",
   "execution_count": 40,
   "metadata": {
    "solution2": "shown"
   },
   "outputs": [],
   "source": [
    "def ingresoutil(p): #p es la función de demanda\n",
    "    x=Symbol('x')\n",
    "    I=expand(p*x)\n",
    "    c=I.subs(x,0)\n",
    "    g=simplify((I-c)/x)\n",
    "    b=g.subs(x,0)\n",
    "    h=simplify((g-b)/x)\n",
    "    a=h.subs(x,0)\n",
    "    vx=-b/(2*a)\n",
    "    vy=I.subs(x,vx)\n",
    "    pm=p.subs(x,vx)\n",
    "    plot(I,(x,0,solve(p)[0]))\n",
    "    print(\"Para la función de demanda \",p,\"la función de ingreso es\",I, \" y su vértice es (\",vx,\",\",vy,\")\")\n",
    "    print(\"El ingreso máximo se obtiene si se fija un precio de \",pm,\"en el producto. Se estima que la venta será de \",vx, \" cantidades y se obtendrán ingresos por \",vy, \".\")\n",
    "    return I"
   ]
  },
  {
   "cell_type": "code",
   "execution_count": 41,
   "metadata": {},
   "outputs": [
    {
     "data": {
      "image/png": "[encoded data removed]",
      "text/plain": [
       "<Figure size 432x288 with 1 Axes>"
      ]
     },
     "metadata": {
      "needs_background": "light"
     },
     "output_type": "display_data"
    },
    {
     "name": "stdout",
     "output_type": "stream",
     "text": [
      "Para la función de demanda  80000 - 2*x la función de ingreso es -2*x**2 + 80000*x  y su vértice es ( 20000 , 800000000 )\n",
      "El ingreso máximo se obtiene si se fija un precio de  40000 en el producto. Se estima que la venta será de  20000  cantidades y se obtendrán ingresos por  800000000 .\n"
     ]
    },
    {
     "data": {
      "image/png": "[encoded data removed]",
      "text/latex": [
       "$\\displaystyle - 2 x^{2} + 80000 x$"
      ],
      "text/plain": [
       "     2          \n",
       "- 2⋅x  + 80000⋅x"
      ]
     },
     "execution_count": 41,
     "metadata": {},
     "output_type": "execute_result"
    }
   ],
   "source": [
    "ingresoutil(-2*x+80000)"
   ]
  },
  {
   "cell_type": "markdown",
   "metadata": {},
   "source": [
    "<div style=\"font-family:Lucida Sans Unicode, Lucida Grande, sans-serif\">\n",
    "\n",
    "<h3>Función de Utilidad</h3>\n",
    "\n",
    "<p> Otra función importantísima en nuestros análisis es la función de utilidad, establecer las ganancias por una transacción o por un negocio requiere tener en cuenta el ingreso y el costo. Tenemos:</p>\n",
    "<p style=\"text-align:center\"> $U=I-C$</p>\n",
    "Practicamente replicando la función de <code>ingresoutil(p)</code> podemos generar una función similar, salvo que requiere el costo dentro de sus argumentos. Veamos:\n",
    "</div>"
   ]
  },
  {
   "cell_type": "code",
   "execution_count": 45,
   "metadata": {},
   "outputs": [],
   "source": [
    "def utilidadutil(p,C): #p es la función de demanda\n",
    "    x=Symbol('x')\n",
    "    I=expand(p*x)\n",
    "    U=expand(p*x-C)\n",
    "    c=U.subs(x,0)\n",
    "    g=simplify((U-c)/x)\n",
    "    b=g.subs(x,0)\n",
    "    h=simplify((g-b)/x)\n",
    "    a=h.subs(x,0)\n",
    "    vx=round(N(-b/(2*a)),2)\n",
    "    vy=round(N(U.subs(x,vx)),2)\n",
    "    pm=round(N(p.subs(x,vx)),2)\n",
    "    c1=plot(U,(x,0,solve(p)[0]),show=False)\n",
    "    c2=plot(I,(x,0,solve(p)[0]),line_color=\"green\",show=False)\n",
    "    c3=plot(C,(x,0,solve(p)[0]),line_color=\"red\",show=False)\n",
    "    c1.extend(c2)\n",
    "    c1.extend(c3)\n",
    "    c1.show()\n",
    "    print(\"Para la función de demanda \", p,\"y la función de costo\",C,\". La función de ingreso es\",I,\" la función de utilidad es \",U, \" y su vértice es (\",\"{:.2f}\".format(vx),\",\",\"{:.2f}\".format(vy),\")\")\n",
    "    print(\"La utilidad máxima se obtiene si se fija un precio de \",\"{:.2f}\".format(pm),\" en el producto. Se estima que la venta será de \",\"{:.2f}\".format(vx), \" cantidades y se obtendrán ganancias por \",\"{:.2f}\".format(vy), \".\")\n",
    "    return U"
   ]
  },
  {
   "cell_type": "code",
   "execution_count": 46,
   "metadata": {},
   "outputs": [
    {
     "data": {
      "image/png": "[encoded data removed]",
      "text/plain": [
       "<Figure size 432x288 with 1 Axes>"
      ]
     },
     "metadata": {
      "needs_background": "light"
     },
     "output_type": "display_data"
    },
    {
     "name": "stdout",
     "output_type": "stream",
     "text": [
      "Para la función de demanda  80000 - 2*x y la función de costo 10000*x + 200000000 . La función de ingreso es -2*x**2 + 80000*x  la función de utilidad es  -2*x**2 + 70000*x - 200000000  y su vértice es ( 17500.00 , 412500000.00 )\n",
      "La utilidad máxima se obtiene si se fija un precio de  45000.00  en el producto. Se estima que la venta será de  17500.00  cantidades y se obtendrán ganancias por  412500000.00 .\n"
     ]
    },
    {
     "data": {
      "image/png": "[encoded data removed]",
      "text/latex": [
       "$\\displaystyle - 2 x^{2} + 70000 x - 200000000$"
      ],
      "text/plain": [
       "     2                      \n",
       "- 2⋅x  + 70000⋅x - 200000000"
      ]
     },
     "execution_count": 46,
     "metadata": {},
     "output_type": "execute_result"
    }
   ],
   "source": [
    "utilidadutil(-2*x+80000,10000*x+200000000)"
   ]
  },
  {
   "cell_type": "markdown",
   "metadata": {},
   "source": [
    "<div style=\"background-color: #222;color:white;font-family:Lucida Sans Unicode, Lucida Grande, sans-serif\">\n",
    "<p> <br><h3>Recuerda:</h3>\n",
    "    \n",
    "<ul>\n",
    "    <li> Las gráficas de las ecuaciones cuadráticas son parábolas, el vértice es un punto extremo de esas funciones.</li>\n",
    "<li> La parábola abre hacia arriba si el coeficiente principal es mayor que 0, es decir, $a>0$.</li>\n",
    "    \n",
    " <li> La parábola abre hacia abajo si el coeficiente principal es menor que 0, es decir, $a<0$.</li>\n",
    "    \n",
    "<li> El vértice de una parábola está dado por $ \\left( -\\cfrac{b}{2a},\\cfrac{-b^2+4ac}{4a}\\right)$.</li>\n",
    "\n",
    "<li> Una interpretación adecuada del vértice en las funciones anteriores nos permite decidir el precio que maximiza ingresos y utilidades.</li>\n",
    "\n",
    "</ul>\n",
    "</div>"
   ]
  }
 ],
 "metadata": {
  "kernelspec": {
   "display_name": "Python 3",
   "language": "python",
   "name": "python3"
  },
  "language_info": {
   "codemirror_mode": {
    "name": "ipython",
    "version": 3
   },
   "file_extension": ".py",
   "mimetype": "text/x-python",
   "name": "python",
   "nbconvert_exporter": "python",
   "pygments_lexer": "ipython3",
   "version": "3.7.6"
  },
  "latex_envs": {
   "LaTeX_envs_menu_present": true,
   "autoclose": false,
   "autocomplete": true,
   "bibliofile": "biblio.bib",
   "cite_by": "apalike",
   "current_citInitial": 1,
   "eqLabelWithNumbers": true,
   "eqNumInitial": 1,
   "hotkeys": {
    "equation": "Ctrl-E",
    "itemize": "Ctrl-I"
   },
   "labels_anchors": false,
   "latex_user_defs": false,
   "report_style_numbering": false,
   "user_envs_cfg": false
  },
  "toc": {
   "base_numbering": 1,
   "nav_menu": {},
   "number_sections": false,
   "sideBar": true,
   "skip_h1_title": false,
   "title_cell": "Table of Contents",
   "title_sidebar": "Contents",
   "toc_cell": false,
   "toc_position": {},
   "toc_section_display": true,
   "toc_window_display": false
  }
 },
 "nbformat": 4,
 "nbformat_minor": 4
}
