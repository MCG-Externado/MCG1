{
 "cells": [
  {
   "cell_type": "markdown",
   "metadata": {},
   "source": [
    "<header > \n",
    "  <div style=\"background-color: #023324; \"><p><br></p>\n",
    "    <img src=\"https://www.uexternado.edu.co/wp-content/themes/externado_theme/images/logo-uec.svg\" alt=\"Universidad Externado\" width=\"150\" align=\"left\">\n",
    "         <h1  style=\"color: white;font-family:Lucida Sans Unicode, Lucida Grande, sans-serif\" align=\"center\">Algoritmos     </h1> \n",
    "<p><br></p>\n",
    "</div>\n",
    "</header>"
   ]
  },
  {
   "cell_type": "markdown",
   "metadata": {
    "toc": true
   },
   "source": [
    "<h1>Algoritmos<span class=\"tocSkip\"></span></h1>\n",
    "<div class=\"toc\"><ul class=\"toc-item\"><li><span><a href=\"#Origami\" data-toc-modified-id=\"Origami-1\"><span class=\"toc-item-num\">1&nbsp;&nbsp;</span>Origami</a></span><ul class=\"toc-item\"><li><span><a href=\"#Actividad\" data-toc-modified-id=\"Actividad-1.1\"><span class=\"toc-item-num\">1.1&nbsp;&nbsp;</span>Actividad</a></span></li><li><span><a href=\"#Conclusión\" data-toc-modified-id=\"Conclusión-1.2\"><span class=\"toc-item-num\">1.2&nbsp;&nbsp;</span>Conclusión</a></span></li></ul></li><li><span><a href=\"#Pythonmezzo-(Un-intermezzo-de-Python)\" data-toc-modified-id=\"Pythonmezzo-(Un-intermezzo-de-Python)-2\"><span class=\"toc-item-num\">2&nbsp;&nbsp;</span>Pythonmezzo (Un intermezzo de Python)</a></span><ul class=\"toc-item\"><li><span><a href=\"#Funciones\" data-toc-modified-id=\"Funciones-2.1\"><span class=\"toc-item-num\">2.1&nbsp;&nbsp;</span>Funciones</a></span></li></ul></li><li><span><a href=\"#Conversión-de-unidades\" data-toc-modified-id=\"Conversión-de-unidades-3\"><span class=\"toc-item-num\">3&nbsp;&nbsp;</span>Conversión de unidades</a></span></li><li><span><a href=\"#Hojas-de-cálculo\" data-toc-modified-id=\"Hojas-de-cálculo-4\"><span class=\"toc-item-num\">4&nbsp;&nbsp;</span>Hojas de cálculo</a></span><ul class=\"toc-item\"><li><span><a href=\"#Celdas\" data-toc-modified-id=\"Celdas-4.1\"><span class=\"toc-item-num\">4.1&nbsp;&nbsp;</span>Celdas</a></span></li><li><span><a href=\"#Algunas-funciones-elementales-de-una-hoja-de-cálculo\" data-toc-modified-id=\"Algunas-funciones-elementales-de-una-hoja-de-cálculo-4.2\"><span class=\"toc-item-num\">4.2&nbsp;&nbsp;</span>Algunas funciones elementales de una hoja de cálculo</a></span></li><li><span><a href=\"#Lógica-básica-y-unas-sencillas-aplicaciones\" data-toc-modified-id=\"Lógica-básica-y-unas-sencillas-aplicaciones-4.3\"><span class=\"toc-item-num\">4.3&nbsp;&nbsp;</span>Lógica básica y unas sencillas aplicaciones</a></span></li></ul></li></ul></div>"
   ]
  },
  {
   "cell_type": "markdown",
   "metadata": {
    "collapsed": true
   },
   "source": [
    "# Algoritmos\n",
    "\n",
    "*Carlos Isaac Zainea Maya*\n",
    "\n",
    "***Universidad Externado de Colombia***\n",
    "***\n",
    "\n",
    "Un algoritmo es un conjunto de instrucciones ordenadas que permiten solucionar un problema, procesar datos, realizar cálculos, evaluar una hipótesis, entre otros. Aparecen constantemente en nuestra vida cotidiana y sin darnos cuenta muchos de los problemas de nuestro día a día se solucionan con un algoritmo.\n",
    "\n",
    "\n",
    "En términos de programación, un algoritmo es una secuencia de pasos lógicos que permiten solucionar un problema de computación."
   ]
  },
  {
   "cell_type": "markdown",
   "metadata": {},
   "source": [
    "Por ejemplo, queremos que la máquina calcule nuestra nota final a partir de las notas de los diferentes cortes. Tendriamos que indicarle a la máquina que haga lo siguiente:\n",
    "\n",
    "> 1. Reciba la nota del corte 1, asociele la variable $N1$.\n",
    "> 2. Reciba la nota del corte 2, asociele la variable $N2$.\n",
    "> 3. Reciba la nota del corte 3, asociele la variable $N3$.\n",
    "> 4. Reciba la nota del Proyecto final, asociele la variable $PF$.\n",
    "> 5. Calcule $NF=0.25*N1+0.25*N2+0.25*N3+0.25*PF$\n",
    "> 6. Muestre la nota final $NF$\n",
    "  1. Si la nota  $NF$ es mayor o igual que 3.0 el estudiante pasa. \n",
    "  2. Si la nota  $NF$ es menor que 3.0 el estudiante pierde.           \n",
    "\n",
    "Claro, aquí asumimos que todos los cortes valen un 25%.\n"
   ]
  },
  {
   "cell_type": "markdown",
   "metadata": {},
   "source": [
    "Para ingresar esta rutina en la maquina hacemos lo siguiente:"
   ]
  },
  {
   "cell_type": "code",
   "execution_count": null,
   "metadata": {},
   "outputs": [],
   "source": [
    "N1=input(\"Nota corte 1: \") #Paso 1\n",
    "N2=input(\"Nota corte 2: \") #Paso 2\n",
    "N3=input(\"Nota corte 3: \") #Paso 3\n",
    "PF=input(\"Nota Proyecto: \") #Paso 4\n",
    "\n",
    "N1,N2,N3,PF=float(N1),float(N2),float(N3),float(PF)\n",
    "\n",
    "NF=0.25*N1+0.25*N2+0.25*N3+0.25*PF #Paso 5\n",
    "\n",
    "print(\"Su nota es\",NF) # Paso 6\n",
    "\n",
    "if NF>=3:\n",
    "    print(\"¡Has pasado!\") # Paso 6A\n",
    "else:\n",
    "    print(\"¡Has perdido!\") # Paso 6B\n",
    "\n"
   ]
  },
  {
   "cell_type": "markdown",
   "metadata": {},
   "source": [
    "***Nota:*** *Si al hacer el cálculo usted no ingresa los valores adecuadamente la máquina esperará valores que no se pueden ingresar, reinicie el Kernel en este caso.*"
   ]
  },
  {
   "cell_type": "markdown",
   "metadata": {},
   "source": [
    "**Ejercicio**\n",
    "\n",
    "De acuerdo al algoritmo descrito y la implementación en la  entrada anterior explique que hacen las funciones:\n",
    "\n",
    "`input()`\n",
    "\n",
    "`float()`\n",
    "\n",
    "No dude en consultar en un buscador. \n"
   ]
  },
  {
   "cell_type": "markdown",
   "metadata": {},
   "source": [
    "## Origami\n",
    "\n",
    "El origami o papiroflexia es un arte que consiste en el plegado de papel sin usar tijeras ni pegamento para obtener figuras de formas variadas. La particularidad de esta técnica es la transformación del papel en formas de distintos tamaños partiendo de una base inicial cuadrada o rectangular que pueden ir desde sencillos modelos hasta plegados de gran complejidad. Los escultores expertos en origami generan algoritmos para transforma una sencilla hoja en dichas figuras. Veremos que tan complicado resulta para nosotros expresar ese conocimiento, al terminar explicaremos diferentes aspectos fundamentales de los algoritmos.\n",
    "\n",
    "<img src=\"https://images.freeimages.com/images/large-previews/302/origami-1180366.jpg\" width=40% >\n",
    "\n"
   ]
  },
  {
   "cell_type": "markdown",
   "metadata": {},
   "source": [
    "\n",
    "### Actividad\n",
    "\n",
    "1. Organicence en grupos de 3 personas. \n",
    "2. Con sus compañeros escojan una figura de origami a realizar.\n",
    "3. En una hoja de papel escriba los pasos necesarios para realizar dicha figura (10 minutos).\n",
    "4. Lea, **únicamente lea**, a sus compañeros las instrucciones escritas para crear dicha figura.\n",
    "\n",
    "Responda\n",
    "\n",
    "1.¿Lograron sus compañeros hacer la figura requerida?\n",
    "\n",
    "2.¿Reconoce las dificultades que llevaron a sus compañeros a tener o no tener éxito en la creación de la figura en Origami?\n",
    "\n",
    "3. Defina la noción de algoritmo a partir de su experiencia."
   ]
  },
  {
   "cell_type": "markdown",
   "metadata": {},
   "source": [
    "4. Vea el siguiente video y explique la diferencia de las experiencias:\n",
    "\n",
    "[![RANA](https://img.youtube.com/vi/BSkn4HlZdjk/0.jpg)](https://www.youtube.com/watch?v=BSkn4HlZdjk)\n",
    "\n"
   ]
  },
  {
   "cell_type": "markdown",
   "metadata": {},
   "source": [
    "\n",
    "### Conclusión \n",
    "\n",
    "Los algoritmos deben ser precisos en su lenguaje y mantener un orden lógico de realización, debe ser libre de ambigüedades y garantizar siempre el mismo resultado, no puede tener un número inalcanzable de pasos y llegar a la solción del problema cuando se termine.\n",
    "\n",
    "\n",
    "Para generar un algoritmo es necesario que:\n",
    "\n",
    "* Expresemos el problema en un lenguaje adecuado para la ejecución de pasos, es decir, reconocer el problema en un contexto coherente con las herramientas que vamos a usar para su solución.\n",
    "\n",
    "* Establecer un objetivo que permita medir la solución del problema.\n",
    "\n",
    "* Realizar pruebas al algoritmo para verificar los resultados.\n"
   ]
  },
  {
   "cell_type": "markdown",
   "metadata": {},
   "source": [
    "## Pythonmezzo (Un intermezzo de Python)\n",
    "\n",
    "\n",
    "Python cuenta con una cantidad innumerable de aportes de toda la comunidad dispuestos en archivos (modulos) guardados en algunas carpetas (paquetes). Un elemento importante de estos aportes son las funciones y las clases, de hecho, en una cantidad significativa de ejemplos los desarrolladores buscan una función o clases para apoyar sus creaciones.\n",
    "\n",
    "En este cuaderno estudiaremos ese componente fundamental de varios bloques de código, *las funciones* y conversaremos acerca de la instalación, inspección y carga de paquetes."
   ]
  },
  {
   "cell_type": "markdown",
   "metadata": {},
   "source": [
    "### Funciones\n",
    "\n",
    "Las funciones son bloques de código en la cuál la máquina espera uno o varios argumentos de entrada. De acuerdo con lo que recibe, se ejecutan unos pasos y finalmente se produce un argumento de salida.\n",
    "\n",
    "La estructura para definirlas es la siguiente:\n",
    "\n",
    ">def nombre_de_la_funcion(ENTRADA):           \n",
    ">    Pasos a realizar             \n",
    ">    return SALIDA\n"
   ]
  },
  {
   "cell_type": "markdown",
   "metadata": {},
   "source": [
    "Hay una lista de funciones construidas en Python. En este [link](https://docs.python.org/3/library/functions.html), se encuentra un manual de todas las funciones básicas de Python.\n",
    "\n",
    "Veamos algunas de ellas:\n"
   ]
  },
  {
   "cell_type": "markdown",
   "metadata": {},
   "source": [
    "**Ejemplo 1** Funciones predefinidas en Python."
   ]
  },
  {
   "cell_type": "markdown",
   "metadata": {},
   "source": [
    "`abs()`"
   ]
  },
  {
   "cell_type": "code",
   "execution_count": null,
   "metadata": {},
   "outputs": [],
   "source": [
    "print(abs(10))\n",
    "abs(10)==abs(-10)"
   ]
  },
  {
   "cell_type": "markdown",
   "metadata": {},
   "source": [
    "`eval()`"
   ]
  },
  {
   "cell_type": "code",
   "execution_count": null,
   "metadata": {},
   "outputs": [],
   "source": [
    "x = 1\n",
    "eval('x**2')"
   ]
  },
  {
   "cell_type": "markdown",
   "metadata": {},
   "source": [
    "`map()`"
   ]
  },
  {
   "cell_type": "code",
   "execution_count": null,
   "metadata": {},
   "outputs": [],
   "source": [
    "x=map(len, ['apple', 'blueberry', 'cherry']) \n",
    "list(x)"
   ]
  },
  {
   "cell_type": "markdown",
   "metadata": {},
   "source": [
    "`reversed`"
   ]
  },
  {
   "cell_type": "code",
   "execution_count": null,
   "metadata": {},
   "outputs": [],
   "source": [
    "x=[1,2,3]\n",
    "y=reversed(x)\n",
    "list(y)"
   ]
  },
  {
   "cell_type": "code",
   "execution_count": null,
   "metadata": {},
   "outputs": [],
   "source": [
    "x=\"CursoPython\"\n",
    "y=reversed(x)\n",
    "z=list(y)\n",
    "print(z)"
   ]
  },
  {
   "cell_type": "code",
   "execution_count": null,
   "metadata": {},
   "outputs": [],
   "source": [
    "y=\"\".join(z)\n",
    "x=reversed(y)\n",
    "z=list(x)\n",
    "z=\"\".join(z)\n",
    "print(z)"
   ]
  },
  {
   "cell_type": "code",
   "execution_count": null,
   "metadata": {},
   "outputs": [],
   "source": [
    "\"Cuaderno Python\".count(\"n\")"
   ]
  },
  {
   "cell_type": "code",
   "execution_count": null,
   "metadata": {},
   "outputs": [],
   "source": [
    "\"Cuaderno Python\".index(\"a\")"
   ]
  },
  {
   "cell_type": "code",
   "execution_count": null,
   "metadata": {},
   "outputs": [],
   "source": [
    "Z=\"Cuaderno de Python hecho en jupyter\".split()\n",
    "Z"
   ]
  },
  {
   "cell_type": "code",
   "execution_count": null,
   "metadata": {},
   "outputs": [],
   "source": [
    "\"20%\".join(Z)"
   ]
  },
  {
   "cell_type": "code",
   "execution_count": null,
   "metadata": {},
   "outputs": [],
   "source": [
    "\"Carta\".replace(\"a\",\"o\")"
   ]
  },
  {
   "cell_type": "code",
   "execution_count": null,
   "metadata": {},
   "outputs": [],
   "source": [
    "\"Canción\".replace(\"ó\",\"o\")"
   ]
  },
  {
   "cell_type": "markdown",
   "metadata": {},
   "source": [
    "`print()` y `format`"
   ]
  },
  {
   "cell_type": "code",
   "execution_count": null,
   "metadata": {},
   "outputs": [],
   "source": [
    "\"Hola {0}, tu saldo es {1:.3f}\".format(\"Juan\",321.43212)"
   ]
  },
  {
   "cell_type": "code",
   "execution_count": null,
   "metadata": {},
   "outputs": [],
   "source": [
    "N=input(\"Tu nombre \")\n",
    "S=input(\"Tu saldo \")\n",
    "S=float(S)\n",
    "if S>200000:\n",
    "    print(\"Hola {name}, tu saldo es {saldo:.2f}, afortunadamente {name} viviras otra semana y se te dará un premio.\".format(name=N,saldo=S))\n",
    "else:\n",
    "    print(\"Hola {name}, tu saldo es {saldo:.2f}, recuerda {name} que hay que ahorrar.\".format(name=N,saldo=S))"
   ]
  },
  {
   "cell_type": "code",
   "execution_count": null,
   "metadata": {},
   "outputs": [],
   "source": [
    "print(\"Hola {0}, tu saldo es {1:9.3f}\".format(\"Pedro\",320000.2))"
   ]
  },
  {
   "cell_type": "code",
   "execution_count": null,
   "metadata": {},
   "outputs": [],
   "source": [
    "# integer arguments\n",
    "print(\"El número es:{:d}\".format(123))\n",
    "\n",
    "# float arguments\n",
    "print(\"El número con dos decimales:{:.2f}\".format(123.4567898))\n",
    "\n",
    "# octal, binary and hexadecimal format\n",
    "print(\"bin: {0:b}, oct: {0:o}, hex: {0:x}\".format(12))\n",
    "\n",
    "#exp notation, % notation\n",
    "print(\"Exp Notation: {0:.2e},% Notation: {0:.1%}\".format(0.12))"
   ]
  },
  {
   "cell_type": "code",
   "execution_count": null,
   "metadata": {},
   "outputs": [],
   "source": [
    "txt = \"The universe is {:,} years old.\"\n",
    "print(txt.format(13800000000))\n"
   ]
  },
  {
   "cell_type": "code",
   "execution_count": null,
   "metadata": {},
   "outputs": [],
   "source": [
    "Nombres=[\"Juan\",\"Pedro\",\"Carlos\"]\n",
    "Saldos=[100,200,300]\n",
    "\n",
    "N=input(\"Nombre\")\n",
    "ind=Nombres.index(N)\n",
    "\n",
    "print(\"Hola {name}, tu saldo es {saldo:.2f}.\".format(name=Nombres[ind],saldo=Saldos[ind]))"
   ]
  },
  {
   "cell_type": "markdown",
   "metadata": {},
   "source": [
    "`min(), max(), sum() `"
   ]
  },
  {
   "cell_type": "code",
   "execution_count": null,
   "metadata": {},
   "outputs": [],
   "source": [
    "print(min(range(10)))\n",
    "print(max(range(10)))\n",
    "print(sum(range(10)))"
   ]
  },
  {
   "cell_type": "markdown",
   "metadata": {},
   "source": [
    "\n",
    "**Ejemplo 2** También podemos  crear funciones, el siguiente código define una función que recibe un texto y en su parte final pone lo que mide:"
   ]
  },
  {
   "cell_type": "code",
   "execution_count": null,
   "metadata": {},
   "outputs": [],
   "source": [
    "def cuantomide(texto):\n",
    "    n=len(texto)\n",
    "    print(texto, \"tiene\",n,\"caracteres\")\n",
    "    return n"
   ]
  },
  {
   "cell_type": "code",
   "execution_count": null,
   "metadata": {},
   "outputs": [],
   "source": [
    "cuantomide(\"Universidad Externado\")+10"
   ]
  },
  {
   "cell_type": "markdown",
   "metadata": {},
   "source": [
    "Veamos que dice acerca de la frase \"Curso de Python Básico\":\n"
   ]
  },
  {
   "cell_type": "code",
   "execution_count": null,
   "metadata": {},
   "outputs": [],
   "source": [
    "cuantomide(\"Curso de Python Básico\")"
   ]
  },
  {
   "cell_type": "markdown",
   "metadata": {},
   "source": [
    "Observe que la salida de la función corresponde a la cantidad de caracteres, la frase hace parte de lo que ejecuta la función (en este caso `print`) sin embargo no aporta al resultado."
   ]
  },
  {
   "cell_type": "markdown",
   "metadata": {},
   "source": [
    "Algunas funciones útiles:"
   ]
  },
  {
   "cell_type": "code",
   "execution_count": null,
   "metadata": {},
   "outputs": [],
   "source": [
    " edades = [5, 12, 17, 18, 24, 32]\n",
    "\n",
    "def soyadulto(x):\n",
    "  if x < 18:\n",
    "    return False\n",
    "  else:\n",
    "    return True\n",
    "\n",
    "adultos = filter(soyadulto, edades)\n",
    "\n",
    "for x in adultos:\n",
    "  print(x) "
   ]
  },
  {
   "cell_type": "code",
   "execution_count": null,
   "metadata": {},
   "outputs": [],
   "source": [
    "def sumar5ydividirpor10(x):\n",
    "    y=(x+5)/10\n",
    "    return y"
   ]
  },
  {
   "cell_type": "code",
   "execution_count": null,
   "metadata": {},
   "outputs": [],
   "source": [
    "sumar5ydividirpor10(14)"
   ]
  },
  {
   "cell_type": "markdown",
   "metadata": {},
   "source": [
    "## Conversión de unidades\n",
    "\n",
    "Usaremos la noción de algoritmo para hacer unos primeros programas enfocados en la conversión de unidades, un proceso que consiste en la transformación de unidades de medida de valores numéricos que expresan una magnitud física.\n",
    "\n",
    "Por ejemplo, sabemos que 1 metro corresponde a 100 cms, así cada vez que tengamos una medida $m$ en metros, sabemos que es igual a la $100\\times m$ centímentros. Así:\n",
    "\n",
    "|***Conversiones***|\n",
    "|:--|\n",
    "|8 metros son 800 centímetros|\n",
    "|3.5 metros son 350 centímetros|\n",
    "|1.1 metros son 110 centímetros|\n",
    "|0.76 metros son 76 centímetros|\n"
   ]
  },
  {
   "cell_type": "markdown",
   "metadata": {},
   "source": [
    "\n",
    "Usando `print()` e `input()` hagamos un conversor de metros a centímetros:\n",
    "\n"
   ]
  },
  {
   "cell_type": "code",
   "execution_count": null,
   "metadata": {},
   "outputs": [],
   "source": [
    "M=input(\"Ingrese la medida en metros \")#recibe a medida en metros\n",
    "M=float(M) #Convierte el texto en número, así podemos hacer cálculos con M\n",
    "CM=100*M #Convierte los metros en centímetros usando el factor de conversión.\n",
    "print(M,\"metros equivalen a \",CM,\"centímetros\")"
   ]
  },
  {
   "cell_type": "markdown",
   "metadata": {},
   "source": [
    "Este apenas es un ejemplo de conversión en medidas de longitud, si consideramos todas las unidades de medida de longitud tenemos:\n",
    "\n",
    "|Unidad \t|Abreviatura \t|Valor|\n",
    "|:--|:--:|:--:|\n",
    "|kilómetro |\tkm |\t1000 m|\n",
    "|hectómetro |\thm| \t100 m|\n",
    "|decámetro \t|dam |\t10 m|\n",
    "|metro| \tm |\t1 m|\n",
    "|decímetro| \tdm \t|0.1 m|\n",
    "|centímetro| \tcm \t|0.01 m|\n",
    "|milímetro |\tmm \t|0.001 m|\n",
    "|micrómetro |\tµm |\t0,000 001 metros|\n",
    "|nanómetro \t|nm |\t0,000 000 001 metros|\n"
   ]
  },
  {
   "cell_type": "markdown",
   "metadata": {},
   "source": [
    "En el **sistema inglés** tenemos más medidas:\n",
    "\n",
    "|Unidad|Abreviatura\t|Valor|\n",
    "|:--|:--:|:--:\n",
    "|1 milla| mill| 1600 metros|\n",
    "|1 pulgada| in |\t0.0254 metros|\n",
    "|1 pie| ft| \t0.3048 metros|\n",
    "|1 yarda |yd|\t0.914 centímetros|\n"
   ]
  },
  {
   "cell_type": "markdown",
   "metadata": {},
   "source": [
    "Hagamos una rutina para pasar medidas conociendo esta tabla, observe que resulta un poco más complicada que la anterior, pues para lo que sigue debemos escribir una frase que muestre la equivalencia entre unidades de medida. Por ejemplo, si queremos escribir *'1 metro equivale a 100 centímetros'*. \n",
    "\n"
   ]
  },
  {
   "cell_type": "markdown",
   "metadata": {},
   "source": [
    "Empecemos con ese algoritmo:\n",
    "\n",
    "**Problema** *Tenemos que ingresar los nombres de las unidades comparadas y los valores que componen una frase de la forma:*\n",
    "```\n",
    "[valor 1] [unidad 1] equivale a [valor 2] [unidad  2]\n",
    "```\n",
    "\n",
    "**Solución**\n",
    "> **Paso 1:** Indicamos que queremos escribir \n",
    "```\n",
    "[valor 1] [unidad 1] equivale a [valor 2] [unidad 2] \n",
    "```\n",
    ">**Paso 2:** solicitamos el nombre de la primera unidad          \n",
    ">**Paso 3:** solicitamos el nombre del valor 1 y lo convertimos en número             \n",
    ">**Paso 4:** solicitamos el nombre de la segunda unidad            \n",
    ">**Paso 5:** solicitamos el nombre del valor 2 y lo convertimos en número            \n",
    ">**Paso 6:** confirmamos que la frase está bien escrita  "
   ]
  },
  {
   "cell_type": "code",
   "execution_count": null,
   "metadata": {},
   "outputs": [],
   "source": [
    "#### Indicamos lo que queremos escribir \n",
    "print(\"Escribiremos un frase para establecer la relación entre dos unidades de medida\")\n",
    "print(\"Será de la forma:\")\n",
    "print(\"[valor 1] [unidad 1] equivale a [valor 2] [unidad 2]\" )\n",
    "\n",
    "#####\n",
    "N1=input(\"Nombre de la primera unidad de medida \")# Ingresemos el nombre de la primera unidad de medida\n",
    "V1=input(\"Ingrese el valor 1:\")# Ingresamos el valor 1\n",
    "V1=float(V1)# Lo convertimos en número\n",
    "N2=input(\"Nombre de la segunda unidad de medida \")# Ingresemos el nombre de la segunda unidad de medida\n",
    "V2=input(\"Ingrese el valor 2:\")# Ingresamos el valor 2\n",
    "V2=float(V2)# Lo convertimos en número\n",
    "\n",
    "###Confirmación\n",
    "print(V1,N1,\"equivale a \",V2,N2)\n",
    "C=input(\"¿La frase es correcta? Sí(s) No(n)\")\n",
    "if C=='s':\n",
    "    print(\"Podemos continuar\")\n",
    "else:\n",
    "    print(\"Se ha cometido un error\")"
   ]
  },
  {
   "cell_type": "markdown",
   "metadata": {},
   "source": [
    "Después de establecer la referencia haremos la conversión. Preguntamos si quiere hacer una conversión de la `unidad 1` a la `unidad 2` o viceversa.\n",
    "\n",
    "Hagamos un análisis de como generar la conversión:\n",
    "\n"
   ]
  },
  {
   "cell_type": "markdown",
   "metadata": {},
   "source": [
    "Si $V1$ \\[Unidad 1\\] equivale a $V2$ \\[Unidad 2\\] y queremos pasar de la primera unidad a la segunda unidad, el factor de conversión es:\n",
    "\n",
    "$$FC_{U1\\rightarrow U2}=\\cfrac{V2}{V1}$$\n",
    "\n",
    "En caso opuesto, el factor de conversión es:\n",
    "\n",
    "\n",
    "$$FC_{U2\\rightarrow U1}=\\cfrac{V1}{V2}$$"
   ]
  },
  {
   "cell_type": "markdown",
   "metadata": {},
   "source": [
    "El algoritmo a usar es el siguiente:\n",
    "\n",
    "**Problema** *Con la referencia:*\n",
    "```\n",
    "[valor 1] [unidad 1] equivale a [valor 2] [unidad  2]\n",
    "```\n",
    "*convertir unidades como quiera el usuario*\n",
    "\n",
    "**Solución**\n",
    "> **Paso 1:** Preguntamos como quiere la conversión si de Unidad 1 a Unidad 2, o Unidad 2 a Unidad 1.               \n",
    "> **Paso 2:** Preguntamos cuantas unidades quiere convertir, lo llamamos $VP$.   \n",
    ">**Paso 3:** si se escoge   ***Unidad 1 a Unidad 2*** hacer lo siguiente:     \n",
    "> $$VR=VP\\cdot\\cfrac{V2}{V1}$$\n",
    "> Imprimimos $VP$ \\[Unidad 1\\] equivale a $VR$ \\[Unidad 2\\]\n",
    ">**Paso 4:** si se escoge   ***Unidad 2 a Unidad 1*** hacer lo siguiente:     \n",
    "> $$VR=VP\\cdot\\cfrac{V1}{V2}$$\n",
    "> Imprimimos $VP$ \\[Unidad 2\\] equivale a $VR$ \\[Unidad 1\\]"
   ]
  },
  {
   "cell_type": "code",
   "execution_count": null,
   "metadata": {},
   "outputs": [],
   "source": [
    "caso=input(\"Si quiere pasar de \"+N1+\" a \"+N2+ \" digite 1, en caso contrario digite 2\")\n",
    "if caso=='1':\n",
    "    VP=input(\"Cuantas unidades quiere convertir de \"+N1+\" a \"+N2)\n",
    "    VP=float(VP)\n",
    "    VR=VP*V2/V1\n",
    "    print(VP,N1, \" equivale a \",VR, N2)\n",
    "elif  caso=='2':\n",
    "    VP=input(\"Cuantas unidades quiere convertir de \"+N2+\" a \"+N1)\n",
    "    VP=float(VP)\n",
    "    VR=VP*V1/V2\n",
    "    print(VP,N2, \" equivale a \",VR, N1)"
   ]
  },
  {
   "cell_type": "markdown",
   "metadata": {},
   "source": [
    "Esta última rutina la podemos definir como una función de programación, la sintaxis es \n",
    "```\n",
    "def nombrefunc(ENTRADA):\n",
    "    rutina\n",
    "    \n",
    "    return SALIDA\n",
    "```\n",
    "\n",
    "Observe que se requiere **indentar**. "
   ]
  },
  {
   "cell_type": "code",
   "execution_count": null,
   "metadata": {},
   "outputs": [],
   "source": [
    "def cambiodemedida(N1,N2,V1,V2):\n",
    "    caso=input(\"Si quiere pasar de \"+N1+\" a \"+N2+ \" digite 1, en caso contrario digite 2\")\n",
    "    if caso=='1':\n",
    "        VP=input(\"Cuantas unidades quiere convertir de \"+N1+\" a \"+N2)\n",
    "        VP=float(VP)\n",
    "        VR=VP*V2/V1\n",
    "        print(VP,N1, \" equivale a \",VR, N2)\n",
    "    elif  caso=='2':\n",
    "        VP=input(\"Cuantas unidades quiere convertir de \"+N2+\" a \"+N1)\n",
    "        VP=float(VP)\n",
    "        VR=VP*V1/V2\n",
    "        print(VP,N2, \" equivale a \",VR, N1)\n",
    "    return"
   ]
  },
  {
   "cell_type": "markdown",
   "metadata": {},
   "source": [
    "Unimos la rutina en una sola celda:"
   ]
  },
  {
   "cell_type": "code",
   "execution_count": null,
   "metadata": {},
   "outputs": [],
   "source": [
    "#### Indicamos lo que queremos escribir \n",
    "print(\"Escribiremos un frase para establecer la relación entre dos unidades de medida\")\n",
    "print(\"Será de la forma:\")\n",
    "print(\"[valor 1] [unidad 1] equivale a [valor 2] [unidad 2]\" )\n",
    "\n",
    "#####\n",
    "N1=input(\"Nombre de la primera unidad de medida \")# Ingresemos el nombre de la primera unidad de medida\n",
    "V1=input(\"Ingrese el valor 1:\")# Ingresamos el valor 1\n",
    "V1=float(V1)# Lo convertimos en número\n",
    "N2=input(\"Nombre de la segunda unidad de medida \")# Ingresemos el nombre de la segunda unidad de medida\n",
    "V2=input(\"Ingrese el valor 2:\")# Ingresamos el valor 2\n",
    "V2=float(V2)# Lo convertimos en número\n",
    "\n",
    "###Confirmación\n",
    "print(V1,N1,\"equivale a \",V2,N2)\n",
    "C=input(\"¿La frase es correcta? Sí(s) No(n)\")\n",
    "if C=='s':\n",
    "    print(\"Podemos continuar\")\n",
    "    cambiodemedida(N1,N2,V1,V2)\n",
    "else:\n",
    "    print(\"Se ha cometido un error\")   \n",
    "    \n"
   ]
  },
  {
   "cell_type": "markdown",
   "metadata": {},
   "source": [
    "Este inocente ejercicio nos permite cambiar cualquier tipo de unidades, por ejemplo el 26 de Julio de 2020 el valor del dólar en colombia era de 3,691.20 pesos. Usemos el ejercicio para saber a que equivale, en dólares, un millon de pesos."
   ]
  },
  {
   "cell_type": "code",
   "execution_count": null,
   "metadata": {},
   "outputs": [],
   "source": [
    "#### Indicamos lo que queremos escribir \n",
    "print(\"Escribiremos un frase para establecer la relación entre dos unidades de medida\")\n",
    "print(\"Será de la forma:\")\n",
    "print(\"[valor 1] [unidad 1] equivale a [valor 2] [unidad 2]\" )\n",
    "\n",
    "#####\n",
    "N1=input(\"Nombre de la primera unidad de medida \")# Ingresemos el nombre de la primera unidad de medida\n",
    "V1=input(\"Ingrese el valor 1:\")# Ingresamos el valor 1\n",
    "V1=float(V1)# Lo convertimos en número\n",
    "N2=input(\"Nombre de la segunda unidad de medida \")# Ingresemos el nombre de la segunda unidad de medida\n",
    "V2=input(\"Ingrese el valor 2:\")# Ingresamos el valor 2\n",
    "V2=float(V2)# Lo convertimos en número\n",
    "\n",
    "###Confirmación\n",
    "print(V1,N1,\"equivale a \",V2,N2)\n",
    "C=input(\"¿La frase es correcta? Sí(s) No(n)\")\n",
    "if C=='s':\n",
    "    print(\"Podemos continuar\")\n",
    "    cambiodemedida(N1,N2,V1,V2)\n",
    "else:\n",
    "    print(\"Se ha cometido un error\")  "
   ]
  },
  {
   "cell_type": "markdown",
   "metadata": {},
   "source": [
    "## Hojas de cálculo\n",
    "\n",
    "Quizás ya conocemos programas como Microsoft Word, Libre Officce Writer o Google Docs. De hecho, seguro alguno de estos programas fue un acompañante constante para entregar buenas y bonitas tareas a nuestros profesores en la secundaria. Sin embargo, al lado de estos programas identificábamos a los hermanitos rudos y complicados que constan de un montón de celdas y que nos dicen sirven para hacer cálculos. Estos programas se conocen como las hojas de cálculo de las suite ofimáticas.  Las hojas de cálculo son programas que permiten introducir diversos datos para operarlos de manera estructurada.\n",
    "\n",
    "Hoy en día es una herramienta fundamental en cualquier empresa, negocio o institución; lo que hace que en toda empresa se requiera personal con habilidades suficientes para manejar una hoja de este tipo. Veremos en esta sección algunos requisitos básicos para emplear este software.\n",
    "\n",
    "### Celdas\n",
    "\n",
    "La celda de una hoja de cálculo corresponde al espacio o lugar en el cual se puede introducir un dato o una fórmula. Se identifican con un nombre según su ubicación, como por ejemplo D6; D es el nombre de la columna y 6 el de la fila en el que está ubicada la celda. Usualmente, las filas son horizontales y están identificadas por los números en secuencia ascendente. Las columnas, en cambio, están identificadas con las letras del alfabeto y van creciendo de forma vertical, al terminar el alfabeto se continua poniendo letras adicionales.\n",
    "\n",
    "***Para tener en cuenta - Variable vs Constante***\n",
    "\n",
    "En las hojas de cálculo podemos poner datos constantes sobre un celda, sin embargo, debido a que en la práctica es muy común hacer operaciones repetitivas es común considerar fórmulas para hacer algunos cálculos. En las fórmulas que se escriben en una celda podemos poner dos tipos de expresiones:\n",
    "\n",
    "* Valores constantes y\n",
    "* el nombre de la celda que nos interesa.\n",
    "\n",
    "Claramente, al poner el nombre de una celda el resultado de cálculo cambiara cada vez que cambiemos la celda que se mencionó dentro de la fórmula. \n",
    "\n",
    "**Operar sobre las celdas**\n",
    "\n",
    "Sobre las hojas de cálculo podemos hacer cualquier operación aritmética elemental: suma, resta, multiplicación y división. Es muy importante reconocer la jerarquía de las operaciones y usar de manera muy cuidadosa los paréntesis. Cada operación que se define sobre una hoja de cálculo se efectúa con las reglas que vimos aquí, es muy importante ayudarse de los paréntesis para determinar el valor deseado.\n",
    "\n",
    "> Todas las subexpresiones entre paréntesis se evalúan primero. Las subexpresiones con paréntesis anidados se evalúan desde el centro hacia los extremos.    \n",
    ">     \n",
    "> Dentro de una expresión, los operadores se evalúan de la siguiente manera:\n",
    "*  Se analiza la expresión de izquierda a derecha respetando el Orden de Prioridad “natural” de operación.       \n",
    ">    \n",
    ">       \n",
    "* Si en la expresión existen paréntesis, lo que se encuentra dentro de estos se evalúan de izquierda a derecha según orden de prioridad de los mismos.    \n",
    ">       \n",
    ">      \n",
    "* Si en la expresión se encuentran más de un par de paréntesis, la evaluación se realiza comenzando con el paréntesis que se encuentra más a la izquierda en la expresión hasta llegar al par de paréntesis que se encuentra más a la derecha de la expresión.\n",
    "\n",
    "\n",
    "\n",
    "### Algunas funciones elementales de una hoja de cálculo\n",
    "\n",
    "**SUMA:** Si tuviésemos que sumar 1000 datos tendríamos que emplear el símbolo ''+'' 999 veces.   La función más básica de la hoja de cálculo es `SUMA`. Se aplica usando la expresión `=SUMA(A1:A1000)` y, en este caso, sumaría todas las celdas desde A1 hasta A1000. Si escribimos `=SUMA(A1,A1000)` solo sumaríamos A1 con A1000. Si en alguna de estas celdas no hay un número sino un texto por ejemplo, el programa identificará el error y no calculará nada.\n",
    "\n",
    "Entre los paréntesis puedes incluir números, celdas individuales o intervalos de celda. Por ejemplo,  =SUMA(5;C1:C5) sumaría todo de C1 a C5 y a su vez sumarle 5.\n",
    "\n",
    "\n",
    "***ALEATORIO y ALEATORIO.ENTRE*** La sintaxis de la función ALEATORIO no posee argumentos y genera un valor aleatorio entre 0 y 1. Sin embargo, si quisiéramos un valor aleatorio entre a y b utilizamos `=ALEATORIO.ENTRE(inferior,superior)`.\n",
    "\n",
    "***CONTAR*** Esta función se utiliza para contar los números en el rango seleccionado, omitiendo las celdas vacías y las que contienen datos no numéricos. Escribimos `=CONTAR(RANGO)`.\n",
    "\n",
    "\n",
    "***PROMEDIO*** La función promedio devuelve la media aritmética que se calcula sumando un grupo de números y dividiendo el resultado por la cantidad de dichos números.  `=PROMEDIO(A5:A100)` calcula el promedio de los valores entre A5 y A100.\n",
    "\n",
    "***MAX y MIN*** La función `=MAX(RANGO)` devuelve el máximo valor del rango seleccionado así mismo, `=MIN(RANGO)` devuelve el valor mínimo. \n",
    "\n",
    "\n",
    "### Lógica básica y unas sencillas aplicaciones\n",
    "Otras funciones elementales en la hoja de cálculo son las condicionales, dada una condición se hace un calculo según la prueba lógica. Es decir, si el criterio se satisface se da un valor, si no se da otro valor. La primera función d e ese tipo es SI, veamos:\n",
    "\n",
    "***SI*** La función SI en una hoja de cálculo evalúa una prueba lógica y devuelve un valor de acuerdo al resultado obtenido de dicha prueba. Para poder utilizar correctamente la función SI es necesario saber utilizar correctamente los operadores de comparación (>) ''mayor que'', (<) ''menor que'' ,(>=) ''mayor o igual que'' , (<=) ''menor o igual que'', (=) ''igual'' y (<>) \"distinto''.La función SI tiene tres argumentos y solo el primero de ellos es obligatorio:\n",
    "\n",
    "\n",
    "```=SI(prueba_lógica, [valor_si_verdadero], [valor_si_falso])\n",
    "```\n",
    "\n",
    "*prueba_lógica*: La comparación a realizar.\n",
    "\n",
    "*valor_si_verdadero*: Valor a regresar si la prueba lógica es verdadera.\n",
    "\n",
    "*valor_si_falso (opcional):* Valor a regresar si la prueba lógica es falsa."
   ]
  }
 ],
 "metadata": {
  "kernelspec": {
   "display_name": "Python 3",
   "language": "python",
   "name": "python3"
  },
  "language_info": {
   "codemirror_mode": {
    "name": "ipython",
    "version": 3
   },
   "file_extension": ".py",
   "mimetype": "text/x-python",
   "name": "python",
   "nbconvert_exporter": "python",
   "pygments_lexer": "ipython3",
   "version": "3.7.6"
  },
  "latex_envs": {
   "LaTeX_envs_menu_present": true,
   "autoclose": false,
   "autocomplete": true,
   "bibliofile": "biblio.bib",
   "cite_by": "apalike",
   "current_citInitial": 1,
   "eqLabelWithNumbers": true,
   "eqNumInitial": 1,
   "hotkeys": {
    "equation": "Ctrl-E",
    "itemize": "Ctrl-I"
   },
   "labels_anchors": false,
   "latex_user_defs": false,
   "report_style_numbering": false,
   "user_envs_cfg": false
  },
  "toc": {
   "base_numbering": 1,
   "nav_menu": {},
   "number_sections": true,
   "sideBar": true,
   "skip_h1_title": true,
   "title_cell": "Algoritmos",
   "title_sidebar": "Algoritmos",
   "toc_cell": true,
   "toc_position": {},
   "toc_section_display": true,
   "toc_window_display": true
  },
  "varInspector": {
   "cols": {
    "lenName": 16,
    "lenType": 16,
    "lenVar": 40
   },
   "kernels_config": {
    "python": {
     "delete_cmd_postfix": "",
     "delete_cmd_prefix": "del ",
     "library": "var_list.py",
     "varRefreshCmd": "print(var_dic_list())"
    },
    "r": {
     "delete_cmd_postfix": ") ",
     "delete_cmd_prefix": "rm(",
     "library": "var_list.r",
     "varRefreshCmd": "cat(var_dic_list()) "
    }
   },
   "types_to_exclude": [
    "module",
    "function",
    "builtin_function_or_method",
    "instance",
    "_Feature"
   ],
   "window_display": false
  }
 },
 "nbformat": 4,
 "nbformat_minor": 2
}
