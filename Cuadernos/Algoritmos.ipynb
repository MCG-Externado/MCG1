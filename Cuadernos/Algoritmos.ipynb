{
  "cells": [
    {
      "metadata": {
        "collapsed": true
      },
      "cell_type": "markdown",
      "source": "# Algoritmos\n\n*Carlos Isaac Zainea Maya*\n\n***Universidad Externado de Colombia***\n***\n\nUn algoritmo es un conjunto de instrucciones ordenadas que permiten solucionar un problema, procesar datos, realizar cálculos, evaluar una hipótesis, entre otros. Aparecen constantemente en nuestra vida cotidiana y sin darnos cuenta muchos de los problemas de nuestro día a día se solucionan con un algoritmo.\n\n\nEn términos de programación, un algoritmo es una secuencia de pasos lógicos que permiten solucionar un problema de computación, por ejemplo, queremos que la máquina calcule nuestra nota final a partir de las notas de los diferentes cortes. Tendriamos que indicarle a la máquina que haga lo siguiente:\n\n> 1. Reciba la nota del corte 1, asociele la variable $N1$.\n> 2. Reciba la nota del corte 2, asociele la variable $N2$.\n> 3. Reciba la nota del corte 3, asociele la variable $N3$.\n> 4. Reciba la nota del Proyecto final, asociele la variable $PF$.\n> 5. Calcule $NF=0.25*N1+0.25*N2+0.25*N3+0.25*PF$\n> 6. Muestre la nota final $NF$\n  1. Si la nota  $NF$ es mayor o igual que 3.0 el estudiante pasa. \n  2. Si la nota  $NF$ es menor que 3.0 el estudiante pierde.           \n\n\n\nAl ingresar esta rutina en la maquina hacemos lo siguiente:"
    },
    {
      "metadata": {
        "trusted": true
      },
      "cell_type": "code",
      "source": "N1=input(\"Nota corte 1: \") #Paso 1\nN2=input(\"Nota corte 2: \") #Paso 2\nN3=input(\"Nota corte 3: \") #Paso 3\nPF=input(\"Nota Proyecto: \") #Paso 4\n\nN1,N2,N3,PF=float(N1),float(N2),float(N3),float(PF)\n\nNF=0.25*N1+0.25*N2+0.25*N3+0.25*PF #Paso 5\n\nprint(\"Su nota es\",NF) # Paso 6\n\nif NF>=3:\n    print(\"¡Has pasado!\") # Paso 6A\nelse:\n    print(\"¡Has perdido!\") # Paso 6B\n\n",
      "execution_count": 5,
      "outputs": [
        {
          "output_type": "stream",
          "name": "stdout",
          "text": "Nota corte 1: 2.5\nNota corte 2: 3.4\nNota corte 3: 1.2\nNota Proyecto: 4\nSu nota es 2.7750000000000004\n¡Has perdido!\n"
        }
      ]
    },
    {
      "metadata": {
        "trusted": true
      },
      "cell_type": "markdown",
      "source": "**Ejercicio**\n\nDe acuerdo al algoritmo descrito y la implementación en la  entrada anterior explique que hacen las funciones:\n\n`input()`\n\n`float()`\n\nNo dude en consultar en un buscador. \n"
    },
    {
      "metadata": {},
      "cell_type": "markdown",
      "source": "## Origami\n\nEl origami o papiroflexia es un arte que consiste en el plegado de papel sin usar tijeras ni pegamento para obtener figuras de formas variadas. La particularidad de esta técnica es la transformación del papel en formas de distintos tamaños partiendo de una base inicial cuadrada o rectangular que pueden ir desde sencillos modelos hasta plegados de gran complejidad. Los escultores expertos en origami generan algoritmos para transforma una sencilla hoja en dichas figuras. Veremos que tan complicado resulta para nosotros expresar ese conocimiento, al terminar explicaremos diferentes aspectos fundamentales de los algoritmos.\n\n![Origamiphoto1](https://images.freeimages.com/images/large-previews/302/origami-1180366.jpg)\n\n\n### Actividad\n\n1. Organicence en grupos de 3 personas. \n2. Con sus compañeros escojan una figura de origami a realizar.\n3. En una hoja de papel escriba los pasos necesarios para realizar dicha figura (10 minutos).\n4. Lea, **únicamente lea**, a sus compañeros las instrucciones escritas para crear dicha figura.\n\nResponda\n\n1.¿Lograron sus compañeros hacer la figura requerida?\n\n2.¿Reconoce las dificultades que llevaron a sus compañeros a tener o no tener éxito en la creación de la figura en Origami?\n\n3. Defina la noción de algoritmo a partir de su experiencia.\n\n4. Vea el siguiente video y explique la diferencia de las experiencias:\n\n[![RANA](https://img.youtube.com/vi/BSkn4HlZdjk/0.jpg)](https://www.youtube.com/watch?v=BSkn4HlZdjk)\n\n\n### Conclusión \n\nLos algoritmos deben ser precisos en su lenguaje y mantener un orden lógico de realización, debe ser libre de ambigüedades y garantizar siempre el mismo resultado, no puede tener un número inalcanzable de pasos y llegar a la solción del problema cuando se termine.\n\n\nPara generar un algoritmo es necesario que:\n\n* Expresemos el problema en un lenguaje adecuado para la ejecución de pasos, es decir, reconocer el problema en un contexto coherente con las herramientas que vamos a usar para su solución.\n\n* Establecer un objetivo que permita medir la solución del problema.\n\n* Realizar pruebas al algoritmo para verificar los resultados.\n"
    },
    {
      "metadata": {},
      "cell_type": "markdown",
      "source": "## Hojas de cálculo\n\nQuizás ya conocemos programas como Microsoft Word, Libre Officce Writer o Google Docs. De hecho, seguro alguno de estos programas fue un acompañante constante para entregar buenas y bonitas tareas a nuestros profesores en la secundaria. Sin embargo, al lado de estos programas identificábamos a los hermanitos rudos y complicados que constan de un montón de celdas y que nos dicen sirven para hacer cálculos. Estos programas se conocen como las hojas de cálculo de las suite ofimáticas.  Las hojas de cálculo son programas que permiten introducir diversos datos para operarlos de manera estructurada.\n\nHoy en día es una herramienta fundamental en cualquier empresa, negocio o institución; lo que hace que en toda empresa se requiera personal con habilidades suficientes para manejar una hoja de este tipo. Veremos en esta sección algunos requisitos básicos para emplear este software.\n\n### Celdas\n\nLa celda de una hoja de cálculo corresponde al espacio o lugar en el cual se puede introducir un dato o una fórmula. Se identifican con un nombre según su ubicación, como por ejemplo D6; D es el nombre de la columna y 6 el de la fila en el que está ubicada la celda. Usualmente, las filas son horizontales y están identificadas por los números en secuencia ascendente. Las columnas, en cambio, están identificadas con las letras del alfabeto y van creciendo de forma vertical, al terminar el alfabeto se continua poniendo letras adicionales.\n\n***Para tener en cuenta - Variable vs Constante***\n\nEn las hojas de cálculo podemos poner datos constantes sobre un celda, sin embargo, debido a que en la práctica es muy común hacer operaciones repetitivas es común considerar fórmulas para hacer algunos cálculos. En las fórmulas que se escriben en una celda podemos poner dos tipos de expresiones:\n\n* Valores constantes y\n* el nombre de la celda que nos interesa.\n\nClaramente, al poner el nombre de una celda el resultado de cálculo cambiara cada vez que cambiemos la celda que se mencionó dentro de la fórmula. Ejemplo:\n\n![Hoja de Calculo](https://notebooks.azure.com/carlos-zainea/projects/mcg1/raw/Imagenes%2FHC.jpg)\n\n\n**Operar sobre las celdas**\n\nSobre las hojas de cálculo podemos hacer cualquier operación aritmética elemental: suma, resta, multiplicación y división. Es muy importante reconocer la jerarquía de las operaciones y usar de manera muy cuidadosa los paréntesis. Cada operación que se define sobre una hoja de cálculo se efectúa con las reglas que vimos aquí, es muy importante ayudarse de los paréntesis para determinar el valor deseado.\n\n> Todas las subexpresiones entre paréntesis se evalúan primero. Las subexpresiones con paréntesis anidados se evalúan desde el centro hacia los extremos.    \n>     \n> Dentro de una expresión, los operadores se evalúan de la siguiente manera:\n*  Se analiza la expresión de izquierda a derecha respetando el Orden de Prioridad “natural” de operación.       \n>    \n>       \n* Si en la expresión existen paréntesis, lo que se encuentra dentro de estos se evalúan de izquierda a derecha según orden de prioridad de los mismos.    \n>       \n>      \n* Si en la expresión se encuentran más de un par de paréntesis, la evaluación se realiza comenzando con el paréntesis que se encuentra más a la izquierda en la expresión hasta llegar al par de paréntesis que se encuentra más a la derecha de la expresión.\n\n\n\n### Algunas funciones elementales de una hoja de cálculo\n\n**SUMA:** Si tuviésemos que sumar 1000 datos tendríamos que emplear el símbolo ''+'' 999 veces.   La función más básica de la hoja de cálculo es `SUMA`. Se aplica usando la expresión `=SUMA(A1:A1000)` y, en este caso, sumaría todas las celdas desde A1 hasta A1000. Si escribimos `=SUMA(A1,A1000)` solo sumaríamos A1 con A1000. Si en alguna de estas celdas no hay un número sino un texto por ejemplo, el programa identificará el error y no calculará nada.\n\nEntre los paréntesis puedes incluir números, celdas individuales o intervalos de celda. Por ejemplo,  =SUMA(5;C1:C5) sumaría todo de C1 a C5 y a su vez sumarle 5.\n\n\n***ALEATORIO y ALEATORIO.ENTRE*** La sintaxis de la función ALEATORIO no posee argumentos y genera un valor aleatorio entre 0 y 1. Sin embargo, si quisiéramos un valor aleatorio entre a y b utilizamos `=ALEATORIO.ENTRE(inferior,superior)`.\n\n***CONTAR*** Esta función se utiliza para contar los números en el rango seleccionado, omitiendo las celdas vacías y las que contienen datos no numéricos. Escribimos `=CONTAR(RANGO)`.\n\n\n***PROMEDIO*** La función promedio devuelve la media aritmética que se calcula sumando un grupo de números y dividiendo el resultado por la cantidad de dichos números.  `=PROMEDIO(A5:A100)` calcula el promedio de los valores entre A5 y A100.\n\n***MAX y MIN*** La función `=MAX(RANGO)` devuelve el máximo valor del rango seleccionado así mismo, `=MIN(RANGO)` devuelve el valor mínimo. \n\n\n### Lógica básica y unas sencillas aplicaciones\nOtras funciones elementales en la hoja de cálculo son las condicionales, dada una condición se hace un calculo según la prueba lógica. Es decir, si el criterio se satisface se da un valor, si no se da otro valor. La primera función d e ese tipo es SI, veamos:\n\n***SI*** La función SI en una hoja de cálculo evalúa una prueba lógica y devuelve un valor de acuerdo al resultado obtenido de dicha prueba. Para poder utilizar correctamente la función SI es necesario saber utilizar correctamente los operadores de comparación (>) ''mayor que'', (<) ''menor que'' ,(>=) ''mayor o igual que'' , (<=) ''menor o igual que'', (=) ''igual'' y (<>) \"distinto''.La función SI tiene tres argumentos y solo el primero de ellos es obligatorio:\n\n\n```=SI(prueba_lógica, [valor_si_verdadero], [valor_si_falso])\n```\n\n*prueba_lógica*: La comparación a realizar.\n\n*valor_si_verdadero*: Valor a regresar si la prueba lógica es verdadera.\n\n*valor_si_falso (opcional):* Valor a regresar si la prueba lógica es falsa."
    },
    {
      "metadata": {
        "trusted": true
      },
      "cell_type": "code",
      "source": "",
      "execution_count": null,
      "outputs": []
    }
  ],
  "metadata": {
    "kernelspec": {
      "name": "python36",
      "display_name": "Python 3.6",
      "language": "python"
    },
    "toc": {
      "nav_menu": {},
      "number_sections": true,
      "sideBar": true,
      "skip_h1_title": false,
      "base_numbering": 1,
      "title_cell": "Table of Contents",
      "title_sidebar": "Contents",
      "toc_cell": false,
      "toc_position": {},
      "toc_section_display": true,
      "toc_window_display": false
    },
    "varInspector": {
      "window_display": false,
      "cols": {
        "lenName": 16,
        "lenType": 16,
        "lenVar": 40
      },
      "kernels_config": {
        "python": {
          "library": "var_list.py",
          "delete_cmd_prefix": "del ",
          "delete_cmd_postfix": "",
          "varRefreshCmd": "print(var_dic_list())"
        },
        "r": {
          "library": "var_list.r",
          "delete_cmd_prefix": "rm(",
          "delete_cmd_postfix": ") ",
          "varRefreshCmd": "cat(var_dic_list()) "
        }
      },
      "types_to_exclude": [
        "module",
        "function",
        "builtin_function_or_method",
        "instance",
        "_Feature"
      ]
    },
    "language_info": {
      "mimetype": "text/x-python",
      "nbconvert_exporter": "python",
      "name": "python",
      "pygments_lexer": "ipython3",
      "version": "3.6.6",
      "file_extension": ".py",
      "codemirror_mode": {
        "version": 3,
        "name": "ipython"
      }
    }
  },
  "nbformat": 4,
  "nbformat_minor": 2
}
