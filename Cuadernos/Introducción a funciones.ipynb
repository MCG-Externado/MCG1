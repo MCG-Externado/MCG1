{
 "cells": [
  {
   "cell_type": "markdown",
   "metadata": {},
   "source": [
    "  <div style=\"background-color: #023324; \"><p><br></p>\n",
    "    <img src=\"https://www.uexternado.edu.co/wp-content/themes/externado_theme/images/logo-uec.svg\" alt=\"Universidad Externado\" width=\"150\" align=\"left\">\n",
    "         <h1  style=\"color: white;font-family:Lucida Sans Unicode, Lucida Grande, sans-serif\" align=\"center\">Funciones </h1> \n",
    "<p><br></p>\n",
    "</div>"
   ]
  },
  {
   "cell_type": "markdown",
   "metadata": {
    "toc": true
   },
   "source": [
    "<h1>Introducción a funciones<span class=\"tocSkip\"></span></h1>\n",
    "<div class=\"toc\"><ul class=\"toc-item\"><li><span><a href=\"#Definición-de-función\" data-toc-modified-id=\"Definición-de-función-1\">Definición de función</a></span><ul class=\"toc-item\"><li><span><a href=\"#Ejercicio\" data-toc-modified-id=\"Ejercicio-1.1\">Ejercicio</a></span></li></ul></li><li><span><a href=\"#Función-lineal\" data-toc-modified-id=\"Función-lineal-2\">Función lineal</a></span><ul class=\"toc-item\"><li><span><a href=\"#Programa-para-funciones-lineales\" data-toc-modified-id=\"Programa-para-funciones-lineales-2.1\">Programa para funciones lineales</a></span></li><li><span><a href=\"#Ejemplo\" data-toc-modified-id=\"Ejemplo-2.2\">Ejemplo</a></span></li></ul></li></ul></div>"
   ]
  },
  {
   "cell_type": "markdown",
   "metadata": {},
   "source": [
    "## Definición de función"
   ]
  },
  {
   "cell_type": "markdown",
   "metadata": {},
   "source": [
    "En la sección de algoritmos tuvimos un acercamiento a la noción de función, de hecho, vimos que las funciones en Python toman un lugar valioso porque reducen la necesidad de crear rutinas varias veces que van a hacer los mismos desarrollos. Teniendo en cuenta esa definición podemos estudiar la definición formal de este concepto, que aunque fundamenta mucho de lo que vimos en Python no resulta equivalente:"
   ]
  },
  {
   "cell_type": "markdown",
   "metadata": {},
   "source": [
    "<img src= \"https://raw.githubusercontent.com/MCG-Externado/MateBasicas-MCG1/master/imagenes/Funcion1.png\" width=80%>\n"
   ]
  },
  {
   "cell_type": "markdown",
   "metadata": {},
   "source": [
    "El video siguiente nos aclara esta definción y nos motiva a ver algunos resultados más:"
   ]
  },
  {
   "cell_type": "markdown",
   "metadata": {},
   "source": [
    "[![Image](https://img.youtube.com/vi/LNxFsFwECDQ/0.jpg)](https://youtu.be/LNxFsFwECDQ)"
   ]
  },
  {
   "cell_type": "markdown",
   "metadata": {},
   "source": [
    "Veamos algunos ejemplos:"
   ]
  },
  {
   "cell_type": "markdown",
   "metadata": {},
   "source": [
    "**Ejemplo1**\n",
    "<img src=\"https://raw.githubusercontent.com/MCG-Externado/MateBasicas-MCG1/master/imagenes/Funcion2.png\" width=60%>\n"
   ]
  },
  {
   "cell_type": "markdown",
   "metadata": {
    "hide_input": true,
    "solution2": "hidden",
    "solution2_first": true
   },
   "source": [
    "Respuesta a la pregunta propuesta:"
   ]
  },
  {
   "cell_type": "markdown",
   "metadata": {
    "solution2": "hidden"
   },
   "source": [
    "Porque no contradice la definición de función, donde cada elemento del conjunto de partida se le permite una sola imagen."
   ]
  },
  {
   "cell_type": "markdown",
   "metadata": {},
   "source": [
    "**Ejemplo 2**"
   ]
  },
  {
   "cell_type": "markdown",
   "metadata": {},
   "source": [
    "<img src=\"https://raw.githubusercontent.com/MCG-Externado/MateBasicas-MCG1/master/imagenes/Funcion3.png\" width=60%>\n"
   ]
  },
  {
   "cell_type": "markdown",
   "metadata": {
    "solution2": "shown",
    "solution2_first": true
   },
   "source": [
    "Respuesta a la pregunta propuesta:"
   ]
  },
  {
   "cell_type": "markdown",
   "metadata": {
    "solution2": "shown"
   },
   "source": [
    "Porque contradice la definición de función, hay un elemento del conjunto de partida que tiene dos imágenes."
   ]
  },
  {
   "cell_type": "markdown",
   "metadata": {
    "solution2": "shown",
    "solution2_first": true
   },
   "source": [
    "**Ejemplo 3**\n",
    "<img src=\"https://raw.githubusercontent.com/MCG-Externado/MateBasicas-MCG1/master/imagenes/Funcion4.png\" width=60% >"
   ]
  },
  {
   "cell_type": "markdown",
   "metadata": {
    "solution2": "shown"
   },
   "source": [
    "Solución:\n",
    "<img src=\"https://raw.githubusercontent.com/MCG-Externado/MateBasicas-MCG1/master/imagenes/Funcion5.png\" width=60%>"
   ]
  },
  {
   "cell_type": "markdown",
   "metadata": {},
   "source": [
    "\n",
    "Usemos Python:"
   ]
  },
  {
   "cell_type": "code",
   "execution_count": 6,
   "metadata": {},
   "outputs": [],
   "source": [
    "import numpy as np ## Importamos este paquete para usar la raíz (sqrt)\n",
    "def h(x):\n",
    "    h=np.sqrt(x+4)\n",
    "    return h"
   ]
  },
  {
   "cell_type": "code",
   "execution_count": 7,
   "metadata": {},
   "outputs": [
    {
     "name": "stdout",
     "output_type": "stream",
     "text": [
      "h(0)= 2.0\n",
      "h(3)= 2.6457513110645907\n",
      "h(-2)= 1.4142135623730951\n",
      "h(-8)= nan\n",
      "h(-10)= nan\n"
     ]
    },
    {
     "name": "stderr",
     "output_type": "stream",
     "text": [
      "/home/isaac/anaconda3/lib/python3.7/site-packages/ipykernel_launcher.py:3: RuntimeWarning: invalid value encountered in sqrt\n",
      "  This is separate from the ipykernel package so we can avoid doing imports until\n"
     ]
    }
   ],
   "source": [
    "## Creamos la lista con los valores solicitados\n",
    "valores=[0,3,-2,-8,-10]\n",
    "\n",
    "## imprimimos los resultados\n",
    "for i in valores:\n",
    "    print(\"h(\"+str(i)+\")=\",h(i))"
   ]
  },
  {
   "cell_type": "markdown",
   "metadata": {},
   "source": [
    "<img src=\"https://raw.githubusercontent.com/MCG-Externado/MateBasicas-MCG1/master/imagenes/Funcion6.png\" width=60% >"
   ]
  },
  {
   "cell_type": "markdown",
   "metadata": {},
   "source": [
    "<img src=\"https://raw.githubusercontent.com/MCG-Externado/MateBasicas-MCG1/master/imagenes/Funcion7.png\" width=60%>"
   ]
  },
  {
   "cell_type": "markdown",
   "metadata": {
    "solution2": "hidden",
    "solution2_first": true
   },
   "source": [
    "### Ejercicio\n",
    "<img src=\"https://raw.githubusercontent.com/MCG-Externado/MateBasicas-MCG1/master/imagenes/Funcion8.png\">"
   ]
  },
  {
   "cell_type": "markdown",
   "metadata": {
    "solution2": "hidden"
   },
   "source": [
    "<img src=\"imagenes/Funcion9.png\">"
   ]
  },
  {
   "cell_type": "markdown",
   "metadata": {},
   "source": [
    "## Función lineal"
   ]
  },
  {
   "cell_type": "markdown",
   "metadata": {},
   "source": [
    "<img src=\"https://raw.githubusercontent.com/MCG-Externado/MateBasicas-MCG1/master/imagenes/Funcion10.png\"> "
   ]
  },
  {
   "cell_type": "markdown",
   "metadata": {},
   "source": [
    "<img src=\"https://raw.githubusercontent.com/MCG-Externado/MateBasicas-MCG1/master/imagenes/Funcion11.png\">"
   ]
  },
  {
   "cell_type": "markdown",
   "metadata": {},
   "source": [
    "### Programa para funciones lineales"
   ]
  },
  {
   "cell_type": "markdown",
   "metadata": {
    "solution2": "shown",
    "solution2_first": true
   },
   "source": [
    "Construya un programa que reciba la pendiente y un punto y grafique la respectiva recta."
   ]
  },
  {
   "cell_type": "code",
   "execution_count": 4,
   "metadata": {
    "solution2": "shown"
   },
   "outputs": [],
   "source": [
    "import sympy as sp\n",
    "import numpy as np\n",
    "import matplotlib.pyplot as plt\n",
    "from sympy import Symbol \n",
    "#x=Symbol(\"x\")\n",
    "def punto_pendiente(m,x1,y1):\n",
    "    m,x1,y1=float(m),float(x1),float(y1)\n",
    "    b=(-m*x1+y1)\n",
    "\n",
    "    if b>0:\n",
    "        print(\"La ecuación de la recta es y = {m}x + {b}, \\nY su representación gráfica es: \".format(m=m,b=b))\n",
    "    elif b<0:\n",
    "        print(\"La ecuación de la recta es y = {m}x{b} \\nY su representación gráfica es:\".format(m=m,b=b))\n",
    "    else:\n",
    "        print(\"La ecuación de la recta es y = {m}x \\nY su representación gráfica es:\".format(m=m,b=b))\n",
    "    x = np.linspace(-4,4,10000)\n",
    "    y = m*x+b\n",
    "    plt.plot(x, y, '-b',label='y')\n",
    "    plt.title('Gráfica de la ecuación de la recta')\n",
    "    plt.xlabel('x', color='b')\n",
    "    plt.ylabel('y', color='b')\n",
    "    plt.legend(loc='upper left')\n",
    "    plt.grid()\n",
    "    plt.show()\n"
   ]
  },
  {
   "cell_type": "markdown",
   "metadata": {},
   "source": [
    "### Ejemplo\n",
    "Determine la gráfica de la recta que tiene pendiente -2 y pasa por el punto (0,3)."
   ]
  },
  {
   "cell_type": "code",
   "execution_count": 5,
   "metadata": {},
   "outputs": [
    {
     "name": "stdout",
     "output_type": "stream",
     "text": [
      "La ecuación de la recta es y = -2.0x + 3.0, \n",
      "Y su representación gráfica es: \n"
     ]
    },
    {
     "data": {
      "image/png": "[encoded data removed]",
      "text/plain": [
       "<Figure size 432x288 with 1 Axes>"
      ]
     },
     "metadata": {
      "needs_background": "light"
     },
     "output_type": "display_data"
    }
   ],
   "source": [
    "punto_pendiente(-2,0,3)"
   ]
  }
 ],
 "metadata": {
  "hide_input": false,
  "kernelspec": {
   "display_name": "Python 3",
   "language": "python",
   "name": "python3"
  },
  "language_info": {
   "codemirror_mode": {
    "name": "ipython",
    "version": 3
   },
   "file_extension": ".py",
   "mimetype": "text/x-python",
   "name": "python",
   "nbconvert_exporter": "python",
   "pygments_lexer": "ipython3",
   "version": "3.7.6"
  },
  "latex_envs": {
   "LaTeX_envs_menu_present": true,
   "autoclose": false,
   "autocomplete": true,
   "bibliofile": "biblio.bib",
   "cite_by": "apalike",
   "current_citInitial": 1,
   "eqLabelWithNumbers": true,
   "eqNumInitial": 1,
   "hotkeys": {
    "equation": "Ctrl-E",
    "itemize": "Ctrl-I"
   },
   "labels_anchors": false,
   "latex_user_defs": false,
   "report_style_numbering": false,
   "user_envs_cfg": false
  },
  "toc": {
   "base_numbering": 1,
   "nav_menu": {},
   "number_sections": false,
   "sideBar": true,
   "skip_h1_title": true,
   "title_cell": "Introducción a funciones",
   "title_sidebar": "Función",
   "toc_cell": true,
   "toc_position": {},
   "toc_section_display": true,
   "toc_window_display": false
  },
  "varInspector": {
   "cols": {
    "lenName": 16,
    "lenType": 16,
    "lenVar": 40
   },
   "kernels_config": {
    "python": {
     "delete_cmd_postfix": "",
     "delete_cmd_prefix": "del ",
     "library": "var_list.py",
     "varRefreshCmd": "print(var_dic_list())"
    },
    "r": {
     "delete_cmd_postfix": ") ",
     "delete_cmd_prefix": "rm(",
     "library": "var_list.r",
     "varRefreshCmd": "cat(var_dic_list()) "
    }
   },
   "types_to_exclude": [
    "module",
    "function",
    "builtin_function_or_method",
    "instance",
    "_Feature"
   ],
   "window_display": false
  }
 },
 "nbformat": 4,
 "nbformat_minor": 2
}
