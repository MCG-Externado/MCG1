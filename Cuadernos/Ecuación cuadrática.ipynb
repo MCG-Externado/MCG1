{
 "cells": [
  {
   "cell_type": "markdown",
   "metadata": {},
   "source": [
    "# Ecuación cuadrática\n",
    "\n",
    "Son ecuaciones de la forma:\n",
    "\n",
    "$$ax^2+bx+c=0$$\n",
    "\n",
    "con $a\\neq0$. \n",
    "\n",
    "Por ejemplo:\n",
    "\n",
    "* $x^2-1=0$\n",
    "* $x^2+4=4x$\n",
    "* $x^2+3x=-2$\n",
    "* $2x^2-x+4=0$\n"
   ]
  },
  {
   "cell_type": "markdown",
   "metadata": {},
   "source": [
    "## Solución de ecuaciones cuadráticas\n",
    "\n",
    "Para solucionar una ecuación cuadrática basta seguir unos pasos muy sencillos:\n",
    "\n",
    "1. Expresar la ecuación en su forma canónica, esto es, igualar la ecuación a cero.\n",
    "\n",
    "$$ax^2+bx+c=0$$\n",
    "\n",
    "2. Si es posible factorizar, si no identificar los valores $a$, $b$ y $c$ para usar la siguiente fórmula:\n",
    "\n",
    "$$x=\\cfrac{-b\\pm \\sqrt{b^2-4ac}}{2a} $$\n",
    "\n"
   ]
  },
  {
   "cell_type": "markdown",
   "metadata": {},
   "source": [
    "> *Un elemento interesante dentro de la ecuación es: $\\pm\\sqrt{b^2-4ac}$, es posible que esta raíz no exista, sea igual a cero o de ella se obtenga un valor positivo. Concluimos:*\n",
    "\n",
    "\n",
    "\n",
    "\n",
    "\n",
    "\n",
    "\n",
    "\n",
    "\n"
   ]
  },
  {
   "cell_type": "markdown",
   "metadata": {},
   "source": [
    "\n",
    "* *Si $b^2-4ac$ es positivo entonces la ecuación tiene dos soluciones.*\n",
    "\n",
    "* *Si $b^2-4ac$ es negativo la ecuación no tiene solución.*\n",
    "\n",
    "* *Si $b^2-4ac$ es igual a cero la ecuación tiene una solución.*"
   ]
  },
  {
   "cell_type": "markdown",
   "metadata": {},
   "source": [
    "Volviendo al ejemplo tenemos:\n",
    "\n",
    "* $x^2-1=0$\n",
    "* $x^2+4=4x$\n",
    "* $x^2+3x=-2$\n",
    "* $2x^2-x+4=0$"
   ]
  },
  {
   "cell_type": "markdown",
   "metadata": {},
   "source": [
    "## Python para la solución de ecuaciones\n",
    "\n",
    "En lo que sigue crearemos una función que a partir de los valores de $a$, $b$ y $c$ nos permita determinar la solución de la ecuación. \n",
    "\n",
    "Recordemos algunos conceptos importantes:\n",
    "\n"
   ]
  },
  {
   "cell_type": "markdown",
   "metadata": {},
   "source": [
    "### Importación de paquetes\n",
    "\n",
    "Ya conocemos algunos paquetes importantes, tales como `numpy`, `sympy` y `matplotlib`. \n",
    "\n",
    "Para usarlos debemos escribir \n",
    "\n",
    "`import paquete as alias`.\n",
    "\n",
    "y cada vez que requerimos una función del paquete escribimos:\n",
    "\n",
    "`alias.función`\n"
   ]
  },
  {
   "cell_type": "code",
   "execution_count": null,
   "metadata": {},
   "outputs": [],
   "source": [
    "import numpy as np\n",
    "import sympy as spp"
   ]
  },
  {
   "cell_type": "markdown",
   "metadata": {},
   "source": [
    "### Crear una función \n",
    "\n",
    "Vimos anteriormente que una función de programación es una rutina de reglas que resuelven un problema específico. \n",
    "\n",
    "Su mecánica se expresa en el siguiente diagrama:\n",
    "\n",
    "![Imagen](https://github.com/MCG-Externado/MCG1/blob/master/imagenes/funci%C3%B3n.png?raw=true)\n",
    "\n",
    "y en python se escribe así:\n",
    "\n",
    "******\n",
    "````\n",
    "def nombredefuncion(var_entrada):\n",
    "    \n",
    "    procesos\n",
    "    \n",
    "    return var_salida\n",
    "    \n",
    "````\n",
    "******"
   ]
  },
  {
   "cell_type": "markdown",
   "metadata": {},
   "source": [
    "**Ejemplo**\n",
    "\n",
    "En la siguiente celda definimos la función suma:"
   ]
  },
  {
   "cell_type": "code",
   "execution_count": null,
   "metadata": {},
   "outputs": [],
   "source": [
    "def suma(x,y):\n",
    "    ## complete aquí\n",
    "    return ## y aquí"
   ]
  },
  {
   "cell_type": "code",
   "execution_count": null,
   "metadata": {},
   "outputs": [],
   "source": [
    "suma(3,2)"
   ]
  },
  {
   "cell_type": "markdown",
   "metadata": {},
   "source": [
    "### Solución de una ecuación cuadrática\n",
    "\n",
    "Ahora resolveremos una ecuación cuadrática usando una función de Python. Lo que necesitamos es:\n",
    "\n",
    "* *Variables de entrada*\n",
    "\n",
    "* *Proceso*\n",
    "\n",
    "* *Variables de salida*"
   ]
  },
  {
   "cell_type": "code",
   "execution_count": null,
   "metadata": {},
   "outputs": [],
   "source": [
    "def solucioncuadratica(a,b,c):\n",
    "    ## Primer caso\n",
    "    ## Segundo caso\n",
    "    ## Tercer caso\n",
    "    return ## Resultado"
   ]
  },
  {
   "cell_type": "markdown",
   "metadata": {},
   "source": [
    "### Solucionemos ecuaciones\n",
    "\n",
    "Solucionemos\n",
    "\n",
    "* $x^2-1=0$\n",
    "* $x^2+4=4x$\n",
    "* $x^2+3x=-2$\n",
    "* $2x^2-x+4=0$"
   ]
  }
 ],
 "metadata": {
  "kernelspec": {
   "display_name": "Python 3",
   "language": "python",
   "name": "python3"
  },
  "language_info": {
   "codemirror_mode": {
    "name": "ipython",
    "version": 3
   },
   "file_extension": ".py",
   "mimetype": "text/x-python",
   "name": "python",
   "nbconvert_exporter": "python",
   "pygments_lexer": "ipython3",
   "version": "3.7.4"
  },
  "latex_envs": {
   "LaTeX_envs_menu_present": true,
   "autoclose": false,
   "autocomplete": true,
   "bibliofile": "biblio.bib",
   "cite_by": "apalike",
   "current_citInitial": 1,
   "eqLabelWithNumbers": true,
   "eqNumInitial": 1,
   "hotkeys": {
    "equation": "Ctrl-E",
    "itemize": "Ctrl-I"
   },
   "labels_anchors": false,
   "latex_user_defs": false,
   "report_style_numbering": false,
   "user_envs_cfg": false
  },
  "toc": {
   "base_numbering": 1,
   "nav_menu": {},
   "number_sections": false,
   "sideBar": true,
   "skip_h1_title": false,
   "title_cell": "Table of Contents",
   "title_sidebar": "Contents",
   "toc_cell": false,
   "toc_position": {},
   "toc_section_display": true,
   "toc_window_display": false
  }
 },
 "nbformat": 4,
 "nbformat_minor": 2
}
