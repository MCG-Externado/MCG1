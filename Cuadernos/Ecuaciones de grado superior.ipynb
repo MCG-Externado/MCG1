{
 "cells": [
  {
   "cell_type": "markdown",
   "metadata": {},
   "source": [
    "# Ecuaciones de grado superior\n",
    "\n",
    "En esta clase veremos algunas herramientas que nos permitiran resolver ecuaciones usando Python. El paquete que utilizaremos es Sympy cuya documentación se encuentra en (https://docs.sympy.org/latest/index.html)"
   ]
  },
  {
   "cell_type": "markdown",
   "metadata": {},
   "source": [
    "## Introducción sencilla de sympy"
   ]
  },
  {
   "cell_type": "code",
   "execution_count": 1,
   "metadata": {},
   "outputs": [],
   "source": [
    "import sympy as spp"
   ]
  },
  {
   "cell_type": "code",
   "execution_count": 2,
   "metadata": {},
   "outputs": [],
   "source": [
    "spp.init_printing()"
   ]
  },
  {
   "cell_type": "code",
   "execution_count": 3,
   "metadata": {},
   "outputs": [
    {
     "data": {
      "image/png": "[encoded data removed]",
      "text/latex": [
       "$\\displaystyle 12$"
      ],
      "text/plain": [
       "12"
      ]
     },
     "execution_count": 3,
     "metadata": {},
     "output_type": "execute_result"
    }
   ],
   "source": [
    "5+7"
   ]
  },
  {
   "cell_type": "markdown",
   "metadata": {},
   "source": [
    "Declaramos a x como una variable para sympy utilizando `spp.Symbol('x')`."
   ]
  },
  {
   "cell_type": "code",
   "execution_count": 9,
   "metadata": {},
   "outputs": [],
   "source": [
    "x=spp.Symbol('x')"
   ]
  },
  {
   "cell_type": "markdown",
   "metadata": {},
   "source": [
    "Declaramos el polinomio $x^2-3x+5$:"
   ]
  },
  {
   "cell_type": "code",
   "execution_count": 12,
   "metadata": {},
   "outputs": [
    {
     "data": {
      "image/png": "[encoded data removed]",
      "text/latex": [
       "$\\displaystyle x^{2} - 3 x + 5$"
      ],
      "text/plain": [
       " 2          \n",
       "x  - 3⋅x + 5"
      ]
     },
     "execution_count": 12,
     "metadata": {},
     "output_type": "execute_result"
    }
   ],
   "source": [
    "p=x**2-3*x+5\n",
    "p"
   ]
  },
  {
   "cell_type": "markdown",
   "metadata": {},
   "source": [
    "Hagamos un remplazo de x por 2 en el polinomio $p=x^2-3x+5$, obtenemos:\n",
    "\n",
    "$2^2-3(2)+5=3$"
   ]
  },
  {
   "cell_type": "code",
   "execution_count": 13,
   "metadata": {},
   "outputs": [
    {
     "data": {
      "image/png": "[encoded data removed]",
      "text/latex": [
       "$\\displaystyle 3$"
      ],
      "text/plain": [
       "3"
      ]
     },
     "execution_count": 13,
     "metadata": {},
     "output_type": "execute_result"
    }
   ],
   "source": [
    "p.subs(x,2)"
   ]
  },
  {
   "cell_type": "markdown",
   "metadata": {},
   "source": [
    "Definamos el polinomio $q$ como sigue:\n",
    "\n",
    "$q(x)=5x^3-3x^2+8x-5x^2+10x-3x^3+2$\n",
    "\n",
    "simplificando, obtenemos:\n",
    "\n",
    "$q(x)=2x^3-8x^2+18x+2$"
   ]
  },
  {
   "cell_type": "code",
   "execution_count": 49,
   "metadata": {},
   "outputs": [
    {
     "data": {
      "image/png": "[encoded data removed]",
      "text/latex": [
       "$\\displaystyle 2 x^{3} - 8 x^{2} + 18 x + 2$"
      ],
      "text/plain": [
       "   3      2           \n",
       "2⋅x  - 8⋅x  + 18⋅x + 2"
      ]
     },
     "execution_count": 49,
     "metadata": {},
     "output_type": "execute_result"
    }
   ],
   "source": [
    "q=5*x**3-3*x**2+8*x-5*x**2+10*x-3*x**3+2\n",
    "q #Observe que sympy simplifica rápidamente."
   ]
  },
  {
   "cell_type": "markdown",
   "metadata": {},
   "source": [
    "Multiplicamos el polinomio $p$ por el polinomio $q$:\n",
    "\n",
    "$$p(x)\\times q(x)=(x^2-3x+5)(2x^3-8x^2+18x+2)$$\n",
    "\n",
    "$$=2x^5-6x^4+10x^3-8x^4+24x^3-40x^2$$\n",
    "$$+18x^3-54x^2+90x+2x^2-6x+10$$\n",
    "\n",
    "\n",
    "\n",
    "$$=2x^5-14x^4+52x^3-92x^2+84x+10$$\n"
   ]
  },
  {
   "cell_type": "code",
   "execution_count": 15,
   "metadata": {},
   "outputs": [
    {
     "data": {
      "image/png": "[encoded data removed]",
      "text/latex": [
       "$\\displaystyle \\left(x^{2} - 3 x + 5\\right) \\left(2 x^{3} - 8 x^{2} + 18 x + 2\\right)$"
      ],
      "text/plain": [
       "⎛ 2          ⎞ ⎛   3      2           ⎞\n",
       "⎝x  - 3⋅x + 5⎠⋅⎝2⋅x  - 8⋅x  + 18⋅x + 2⎠"
      ]
     },
     "execution_count": 15,
     "metadata": {},
     "output_type": "execute_result"
    }
   ],
   "source": [
    "p*q"
   ]
  },
  {
   "cell_type": "markdown",
   "metadata": {},
   "source": [
    "spp.expand() sirve para expandir el productor y evitar hacerlo a mano:"
   ]
  },
  {
   "cell_type": "code",
   "execution_count": 17,
   "metadata": {},
   "outputs": [
    {
     "data": {
      "image/png": "[encoded data removed]",
      "text/latex": [
       "$\\displaystyle 2 x^{5} - 14 x^{4} + 52 x^{3} - 92 x^{2} + 84 x + 10$"
      ],
      "text/plain": [
       "   5       4       3       2            \n",
       "2⋅x  - 14⋅x  + 52⋅x  - 92⋅x  + 84⋅x + 10"
      ]
     },
     "execution_count": 17,
     "metadata": {},
     "output_type": "execute_result"
    }
   ],
   "source": [
    "spp.expand(p*q)"
   ]
  },
  {
   "cell_type": "markdown",
   "metadata": {},
   "source": [
    "Otro comando es spp.simplify() que nos permite hacer algunas simplificaciones:"
   ]
  },
  {
   "cell_type": "code",
   "execution_count": 27,
   "metadata": {},
   "outputs": [
    {
     "data": {
      "image/png": "[encoded data removed]",
      "text/latex": [
       "$\\displaystyle x^{2} - 2 x + 1$"
      ],
      "text/plain": [
       " 2          \n",
       "x  - 2⋅x + 1"
      ]
     },
     "execution_count": 27,
     "metadata": {},
     "output_type": "execute_result"
    }
   ],
   "source": [
    "spp.simplify(x**2-2*x+1)"
   ]
  },
  {
   "cell_type": "markdown",
   "metadata": {},
   "source": [
    "spp.factor() nos factoriza un polinomio:"
   ]
  },
  {
   "cell_type": "code",
   "execution_count": 28,
   "metadata": {},
   "outputs": [
    {
     "data": {
      "image/png": "[encoded data removed]",
      "text/latex": [
       "$\\displaystyle \\left(x - 1\\right)^{2}$"
      ],
      "text/plain": [
       "       2\n",
       "(x - 1) "
      ]
     },
     "execution_count": 28,
     "metadata": {},
     "output_type": "execute_result"
    }
   ],
   "source": [
    "spp.factor(x**2-2*x+1)"
   ]
  },
  {
   "cell_type": "markdown",
   "metadata": {},
   "source": [
    "spp.cancel() para simplificar expresiones racionales:"
   ]
  },
  {
   "cell_type": "code",
   "execution_count": 24,
   "metadata": {},
   "outputs": [
    {
     "data": {
      "image/png": "[encoded data removed]",
      "text/latex": [
       "$\\displaystyle \\frac{\\frac{3 x}{2} - 2}{x - 4} + \\frac{1}{x}$"
      ],
      "text/plain": [
       "3⋅x        \n",
       "─── - 2    \n",
       " 2        1\n",
       "─────── + ─\n",
       " x - 4    x"
      ]
     },
     "execution_count": 24,
     "metadata": {},
     "output_type": "execute_result"
    }
   ],
   "source": [
    "h=1/x+(3*x/2-2)/(x-4)\n",
    "h"
   ]
  },
  {
   "cell_type": "code",
   "execution_count": 25,
   "metadata": {},
   "outputs": [
    {
     "data": {
      "image/png": "[encoded data removed]",
      "text/latex": [
       "$\\displaystyle \\frac{\\frac{3 x^{2}}{2} - x - 4}{x \\left(x - 4\\right)}$"
      ],
      "text/plain": [
       "   2        \n",
       "3⋅x         \n",
       "──── - x - 4\n",
       " 2          \n",
       "────────────\n",
       " x⋅(x - 4)  "
      ]
     },
     "execution_count": 25,
     "metadata": {},
     "output_type": "execute_result"
    }
   ],
   "source": [
    "spp.simplify(h)"
   ]
  },
  {
   "cell_type": "code",
   "execution_count": 26,
   "metadata": {},
   "outputs": [
    {
     "data": {
      "image/png": "[encoded data removed]",
      "text/latex": [
       "$\\displaystyle \\frac{3 x^{2} - 2 x - 8}{2 x^{2} - 8 x}$"
      ],
      "text/plain": [
       "   2          \n",
       "3⋅x  - 2⋅x - 8\n",
       "──────────────\n",
       "     2        \n",
       "  2⋅x  - 8⋅x  "
      ]
     },
     "execution_count": 26,
     "metadata": {},
     "output_type": "execute_result"
    }
   ],
   "source": [
    "spp.cancel(h)"
   ]
  },
  {
   "cell_type": "markdown",
   "metadata": {},
   "source": [
    "## Resolución de ecuaciones\n",
    "\n",
    "Primero debemos definir las ecuaciones:"
   ]
  },
  {
   "cell_type": "markdown",
   "metadata": {},
   "source": [
    "$36 = 12x + 2x(x − 13)$"
   ]
  },
  {
   "cell_type": "code",
   "execution_count": 31,
   "metadata": {},
   "outputs": [
    {
     "data": {
      "image/png": "[encoded data removed]",
      "text/latex": [
       "$\\displaystyle 36 = 2 x \\left(x - 13\\right) + 12 x$"
      ],
      "text/plain": [
       "36 = 2⋅x⋅(x - 13) + 12⋅x"
      ]
     },
     "execution_count": 31,
     "metadata": {},
     "output_type": "execute_result"
    }
   ],
   "source": [
    "Ecuacion1=spp.Eq(36,12*x+2*x*(x-13))\n",
    "Ecuacion1"
   ]
  },
  {
   "cell_type": "code",
   "execution_count": 32,
   "metadata": {},
   "outputs": [
    {
     "data": {
      "image/png": "[encoded data removed]",
      "text/latex": [
       "$\\displaystyle \\left[ -2, \\  9\\right]$"
      ],
      "text/plain": [
       "[-2, 9]"
      ]
     },
     "execution_count": 32,
     "metadata": {},
     "output_type": "execute_result"
    }
   ],
   "source": [
    "spp.solve(Ecuacion1)"
   ]
  },
  {
   "cell_type": "code",
   "execution_count": 38,
   "metadata": {},
   "outputs": [
    {
     "data": {
      "image/png": "[encoded data removed]",
      "text/latex": [
       "$\\displaystyle 10 = x^{2} + 3 x - 1$"
      ],
      "text/plain": [
       "      2          \n",
       "10 = x  + 3⋅x - 1"
      ]
     },
     "execution_count": 38,
     "metadata": {},
     "output_type": "execute_result"
    }
   ],
   "source": [
    "Ecuacion3=spp.Eq(10,x**2+3*x-1)\n",
    "Ecuacion3"
   ]
  },
  {
   "cell_type": "code",
   "execution_count": 42,
   "metadata": {},
   "outputs": [
    {
     "data": {
      "image/png": "[encoded data removed]",
      "text/latex": [
       "$\\displaystyle \\left[ 2.14005494464026, \\  -5.14005494464026\\right]$"
      ],
      "text/plain": [
       "[2.14005494464026, -5.14005494464026]"
      ]
     },
     "execution_count": 42,
     "metadata": {},
     "output_type": "execute_result"
    }
   ],
   "source": [
    "[spp.N(a) for a in spp.solve(Ecuacion3)]"
   ]
  },
  {
   "cell_type": "code",
   "execution_count": 43,
   "metadata": {},
   "outputs": [
    {
     "data": {
      "image/png": "[encoded data removed]",
      "text/latex": [
       "$\\displaystyle \\frac{\\frac{3 x}{2} - 2}{x - 4} + \\frac{1}{x} = x^{2} - 3 x + 5$"
      ],
      "text/plain": [
       "3⋅x                       \n",
       "─── - 2                   \n",
       " 2        1    2          \n",
       "─────── + ─ = x  - 3⋅x + 5\n",
       " x - 4    x               "
      ]
     },
     "execution_count": 43,
     "metadata": {},
     "output_type": "execute_result"
    }
   ],
   "source": [
    "Ecuacion2=spp.Eq(h,p)\n",
    "Ecuacion2"
   ]
  },
  {
   "cell_type": "code",
   "execution_count": 44,
   "metadata": {},
   "outputs": [
    {
     "data": {
      "image/png": "[encoded data removed]",
      "text/latex": [
       "$\\displaystyle \\left[ 1.1608938242303 - 1.46471172502602 i, \\  1.1608938242303 + 1.46471172502602 i, \\  4.41907931616568, \\  0.259133035373729\\right]$"
      ],
      "text/plain": [
       "[1.1608938242303 - 1.46471172502602⋅ⅈ, 1.1608938242303 + 1.46471172502602⋅ⅈ, 4\n",
       ".41907931616568, 0.259133035373729]"
      ]
     },
     "execution_count": 44,
     "metadata": {},
     "output_type": "execute_result"
    }
   ],
   "source": [
    "[spp.N(a) for a in spp.solve(Ecuacion2)]"
   ]
  },
  {
   "cell_type": "code",
   "execution_count": 45,
   "metadata": {},
   "outputs": [
    {
     "data": {
      "image/png": "[encoded data removed]",
      "text/latex": [
       "$\\displaystyle 2 x^{5} - 14 x^{4} + 52 x^{3} - 92 x^{2} + 84 x + 10$"
      ],
      "text/plain": [
       "   5       4       3       2            \n",
       "2⋅x  - 14⋅x  + 52⋅x  - 92⋅x  + 84⋅x + 10"
      ]
     },
     "execution_count": 45,
     "metadata": {},
     "output_type": "execute_result"
    }
   ],
   "source": [
    "pq=spp.expand(p*q)\n",
    "pq"
   ]
  },
  {
   "cell_type": "code",
   "execution_count": 46,
   "metadata": {},
   "outputs": [
    {
     "data": {
      "image/png": "[encoded data removed]",
      "text/latex": [
       "$\\displaystyle 0 = 2 x^{5} - 14 x^{4} + 52 x^{3} - 92 x^{2} + 84 x + 10$"
      ],
      "text/plain": [
       "       5       4       3       2            \n",
       "0 = 2⋅x  - 14⋅x  + 52⋅x  - 92⋅x  + 84⋅x + 10"
      ]
     },
     "execution_count": 46,
     "metadata": {},
     "output_type": "execute_result"
    }
   ],
   "source": [
    "Ecuacion4=spp.Eq(0,pq)\n",
    "Ecuacion4"
   ]
  },
  {
   "cell_type": "code",
   "execution_count": 47,
   "metadata": {},
   "outputs": [
    {
     "data": {
      "image/png": "[encoded data removed]",
      "text/latex": [
       "$\\displaystyle \\left[ \\frac{3}{2} - \\frac{\\sqrt{11} i}{2}, \\  \\frac{3}{2} + \\frac{\\sqrt{11} i}{2}, \\  \\frac{4}{3} + \\frac{11}{3 \\left(- \\frac{1}{2} - \\frac{\\sqrt{3} i}{2}\\right) \\sqrt[3]{\\frac{223}{2} + \\frac{3 \\sqrt{6117}}{2}}} - \\frac{\\left(- \\frac{1}{2} - \\frac{\\sqrt{3} i}{2}\\right) \\sqrt[3]{\\frac{223}{2} + \\frac{3 \\sqrt{6117}}{2}}}{3}, \\  \\frac{4}{3} - \\frac{\\left(- \\frac{1}{2} + \\frac{\\sqrt{3} i}{2}\\right) \\sqrt[3]{\\frac{223}{2} + \\frac{3 \\sqrt{6117}}{2}}}{3} + \\frac{11}{3 \\left(- \\frac{1}{2} + \\frac{\\sqrt{3} i}{2}\\right) \\sqrt[3]{\\frac{223}{2} + \\frac{3 \\sqrt{6117}}{2}}}, \\  - \\frac{\\sqrt[3]{\\frac{223}{2} + \\frac{3 \\sqrt{6117}}{2}}}{3} + \\frac{11}{3 \\sqrt[3]{\\frac{223}{2} + \\frac{3 \\sqrt{6117}}{2}}} + \\frac{4}{3}\\right]$"
      ],
      "text/plain": [
       "⎡                                                                             \n",
       "⎢                                                               ⎛  1   √3⋅ⅈ⎞  \n",
       "⎢                                                               ⎜- ─ - ────⎟⋅3\n",
       "⎢3   √11⋅ⅈ  3   √11⋅ⅈ  4                   11                   ⎝  2    2  ⎠ ╲\n",
       "⎢─ - ─────, ─ + ─────, ─ + ────────────────────────────────── - ──────────────\n",
       "⎢2     2    2     2    3                      _______________                 \n",
       "⎢                            ⎛  1   √3⋅ⅈ⎞    ╱ 223   3⋅√6117                  \n",
       "⎢                          3⋅⎜- ─ - ────⎟⋅3 ╱  ─── + ───────                  \n",
       "⎣                            ⎝  2    2  ⎠ ╲╱    2       2                     \n",
       "\n",
       "   _______________                       _______________                      \n",
       "  ╱ 223   3⋅√6117       ⎛  1   √3⋅ⅈ⎞    ╱ 223   3⋅√6117                       \n",
       " ╱  ─── + ───────       ⎜- ─ + ────⎟⋅3 ╱  ─── + ───────                       \n",
       "╱    2       2      4   ⎝  2    2  ⎠ ╲╱    2       2                       11 \n",
       "──────────────────, ─ - ──────────────────────────────── + ───────────────────\n",
       " 3                  3                  3                                      \n",
       "                                                             ⎛  1   √3⋅ⅈ⎞    ╱\n",
       "                                                           3⋅⎜- ─ + ────⎟⋅3 ╱ \n",
       "                                                             ⎝  2    2  ⎠ ╲╱  \n",
       "\n",
       "                       _______________                            ⎤\n",
       "                      ╱ 223   3⋅√6117                             ⎥\n",
       "                   3 ╱  ─── + ───────                             ⎥\n",
       "                   ╲╱    2       2                 11            4⎥\n",
       "───────────────, - ─────────────────── + ───────────────────── + ─⎥\n",
       "_______________             3                  _______________   3⎥\n",
       " 223   3⋅√6117                                ╱ 223   3⋅√6117     ⎥\n",
       " ─── + ───────                           3⋅3 ╱  ─── + ───────     ⎥\n",
       "  2       2                                ╲╱    2       2        ⎦"
      ]
     },
     "execution_count": 47,
     "metadata": {},
     "output_type": "execute_result"
    }
   ],
   "source": [
    "spp.solve(Ecuacion4)"
   ]
  },
  {
   "cell_type": "code",
   "execution_count": 48,
   "metadata": {},
   "outputs": [
    {
     "data": {
      "image/png": "[encoded data removed]",
      "text/latex": [
       "$\\displaystyle \\left[ 1.5 - 1.6583123951777 i, \\  1.5 + 1.6583123951777 i, \\  2.0529931683467 + 2.28481892084714 i, \\  2.0529931683467 - 2.28481892084714 i, \\  -0.105986336693403\\right]$"
      ],
      "text/plain": [
       "[1.5 - 1.6583123951777⋅ⅈ, 1.5 + 1.6583123951777⋅ⅈ, 2.0529931683467 + 2.2848189\n",
       "2084714⋅ⅈ, 2.0529931683467 - 2.28481892084714⋅ⅈ, -0.105986336693403]"
      ]
     },
     "execution_count": 48,
     "metadata": {},
     "output_type": "execute_result"
    }
   ],
   "source": [
    "[spp.N(a) for a in spp.solve(Ecuacion4)]"
   ]
  },
  {
   "cell_type": "code",
   "execution_count": null,
   "metadata": {},
   "outputs": [],
   "source": []
  }
 ],
 "metadata": {
  "kernelspec": {
   "display_name": "Python 3",
   "language": "python",
   "name": "python3"
  },
  "language_info": {
   "codemirror_mode": {
    "name": "ipython",
    "version": 3
   },
   "file_extension": ".py",
   "mimetype": "text/x-python",
   "name": "python",
   "nbconvert_exporter": "python",
   "pygments_lexer": "ipython3",
   "version": "3.7.6"
  },
  "toc": {
   "base_numbering": 1,
   "nav_menu": {},
   "number_sections": false,
   "sideBar": true,
   "skip_h1_title": false,
   "title_cell": "Table of Contents",
   "title_sidebar": "Contents",
   "toc_cell": false,
   "toc_position": {},
   "toc_section_display": true,
   "toc_window_display": false
  }
 },
 "nbformat": 4,
 "nbformat_minor": 2
}
