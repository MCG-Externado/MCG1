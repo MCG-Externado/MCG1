{
 "cells": [
  {
   "cell_type": "markdown",
   "metadata": {},
   "source": [
    "# Ecuaciones lineales\n",
    "\n",
    "**Universidad Externado de Colombia**\n",
    "\n",
    "*Santiago Perez, Sergio Rojas, José Sierra, Isaac Zainea*\n",
    "\n",
    "\n",
    "\n"
   ]
  },
  {
   "cell_type": "markdown",
   "metadata": {},
   "source": [
    "\n",
    "Una de las primeras aplicaciones de las matemáticas en la vida cotidiana se da gracias a las ecuaciones, expresiones algebraicas igualadas que esconden en cada variable un valor que podríamos estar buscando. El objetivo de este capítulo es determinar esa incógnita con la cual describimos algunas cantidades desconocidas, volveremos conocido lo desconocido convirtiéndonos en detectives de problemas muy sencillos.\n",
    "\n",
    "Aunque las ecuaciones se pueden definir con una cantidad arbitraria de variables, estudiaremos en este capítulo únicamente las ecuaciones con  una sola variable, empezaremos con algunas definiciones elementales acerca de las ecuaciones y luego revisaremos las igualdades entre expresiones algebraicas lineales (ecuaciones lineales), finalmente, consideramos casos más complejos.\n",
    "\n",
    "[![Ecuaciones lineales](https://i.ytimg.com/vi/SrStCxKAopA/hqdefault.jpg)](https://www.youtube.com/watch?v=SrStCxKAopA)\n",
    "*Haz clic sobre la imagen para ver el video*\n",
    "\n",
    "\n",
    "\n",
    "\n"
   ]
  },
  {
   "cell_type": "markdown",
   "metadata": {},
   "source": [
    "Es necesario que ejecutemos la siguiente celdas para llevar a cabo esta actividad:"
   ]
  },
  {
   "cell_type": "code",
   "execution_count": 1,
   "metadata": {},
   "outputs": [],
   "source": [
    "def situacion1():\n",
    "    if R1==65000:\n",
    "        print(\"¡Tu respuesta es correcta!\")\n",
    "    else:\n",
    "        print(\"¡Tu respuesta es incorrecta!\")\n",
    "        \n",
    "def situacion2():\n",
    "    if D1==51000:\n",
    "        print(\"El valor del descuento es\",D1)\n",
    "        P1=input(\"¿Cuál es el precio por pagar?:  \") #Descuento situación 2\n",
    "        P1=float(P1)\n",
    "        if P1==289000:\n",
    "            print(\"El precio por pagar es\", P1)\n",
    "            S1=input(\"¿Cuánto dinero le sobra por la compra?\")\n",
    "            S1=float(S1)\n",
    "            if S1==11000:\n",
    "                print(\"El dinero es suficiente para comprar el disco duro y sobran\",S1)\n",
    "            else:\n",
    "                print(\"La cantidad ingresada no es correcta\")\n",
    "\n",
    "        else:\n",
    "            print(\"El precio por pagar es incorrecto\")\n",
    "\n",
    "    else:\n",
    "        print(\"El valor del descuento es incorrecto\")"
   ]
  },
  {
   "cell_type": "markdown",
   "metadata": {},
   "source": [
    "## Las ecuaciones - Como se definen y el significado de la solución \n",
    "\n",
    "Una ecuación puede provenir de preguntas muy sencillas, algo particular es que siempre se refieren a igualdades en las cuales hay una cantidad desconocida. Veamos un ejemplo para iniciar:\n",
    "\n",
    "**Con lo que Juan irá a excursión:**\n",
    "\n",
    "Juan es un estudiante extremadamente distraído, siempre olvida algo sobre los temas importantes y, por ejemplo, cuando hablamos de dinero el está muy perdido. Hoy él está reflexivo y pensativo organizando sus finanzas ya que debe aportar en la excursión programada por la Universidad el próximo fin de semana. Por su mente el está repitiendo lo siguiente:\n",
    "> ***\n",
    " No puedo gastar más dinero porque aún me hace falta el transporte de esta noche `$6.000`, el pago de copias para el examen (la mitad de lo que invierto en la excursión) y ese irresistible jugo de Naranja `$2.000`. Con esos gastos queda justamente lo necesario para la excursión ¡Hay que valorar estos `$50.000`!\n",
    "> ***\n",
    "\n",
    "Seguramente muchos saben cuanto le costará a Juan la excursión, muchos tratan de procesar la información y con una lectura muy sencilla logran determinar el valor que se esconde en el pensamiento de Juan. Sin embargo, la idea es que describamos un proceso formal para encontrar esa cantidad desconocida y para eso, iniciaremos tratando de expresar las ideas de Juan en una igualdad.\n",
    "\n",
    " * En primer lugar establezcamos la variable incógnita, en este caso corresponde al costo de la excursión, usaremos la letra $x$ para simbolizar ese valor.\n",
    " \n",
    " \n",
    " * Identificamos la igualdad, en el caso de este ejemplo, Juan hace la cuenta para distribuir los \\$ 50.000 que tiene. Es claro entonces que a un lado de la igualdad van las cuentas que hace Juan y al otro 50.000.\n",
    " \n",
    " \n",
    "* Finalmente, escribimos los pensamientos de Juan usando expresiones algebraicas, tenemos:\n",
    "\n",
    "![EL1](https://github.com/MCG-Externado/MCG1/blob/master/imagenes/EL1.png?raw=true)\n",
    "\n",
    "La ecuación anterior se reduce a:\n",
    "\n",
    "$$ 8000+\\frac{3}{2}x=50000 $$\n",
    "\n",
    "Aquí usamos los principios básicos en la solución de ecuaciones:\n",
    "\n",
    "* Podemos sumar o restar cualquier expresión algebraica a ambos lados de la ecuación. En una forma más reducida: **lo que suma pasa a restar  y viceversa.**\n",
    "    \n",
    "* Podemos multiplicar o dividir ambos lados de la ecuación por cualquier constante distinta de cero o cualquier expresión no nula. En una forma más reducida: **lo que multiplica pasa a dividir y viceversa, mientras no sea una expresión nula.**\n",
    "    \n",
    "    \n",
    "Obtenemos:\n",
    "\n",
    "![EL2](https://github.com/MCG-Externado/MCG1/blob/master/imagenes/EL.png?raw=true)"
   ]
  },
  {
   "cell_type": "markdown",
   "metadata": {},
   "source": [
    "Veamos a continuación unas situaciones similares a las de Juan y respondamos lo correspondiente al ejecutar el código:"
   ]
  },
  {
   "cell_type": "markdown",
   "metadata": {},
   "source": [
    "**Situación 1**\n",
    "\n",
    "\n",
    "Juan va a una tienda de tecnología y compra unos audífonos que tienen un precio de $\\$80.000$. Al momento de pagar, la cajera le informa que los audífonos tienen un descuento de \\$15.000. \n",
    "\n",
    "¿Cuánto pagó Juan por los audífonos?\n",
    "\n",
    "\n"
   ]
  },
  {
   "cell_type": "code",
   "execution_count": 2,
   "metadata": {},
   "outputs": [
    {
     "name": "stdout",
     "output_type": "stream",
     "text": [
      "¿Cuánto pagó Juan por los audífonos?:  65000\n",
      "¡Tu respuesta es correcta!\n"
     ]
    }
   ],
   "source": [
    "R1=input(\"¿Cuánto pagó Juan por los audífonos?:  \") #Ingreso respuesta situación 1\n",
    "R1=float(R1)\n",
    "situacion1()"
   ]
  },
  {
   "cell_type": "markdown",
   "metadata": {},
   "source": [
    "**Solución 1**\n",
    "\n",
    "El valor final por pagar los audífonos se calcula restando el precio inicial menos el descuento, es decir:\n",
    "\n",
    "\\begin{equation*}\n",
    "\\$ 80.000 - \\$ 15.000 = \\$ 65.000 \n",
    "\\end{equation*}\n",
    "\n",
    "El cual es el monto que debe pagar Juan por los audífonos"
   ]
  },
  {
   "cell_type": "markdown",
   "metadata": {},
   "source": [
    "**Situación 2**\n",
    "\n",
    "Suponga ahora, que Juan tiene $\\$300.000$ para comprar un disco duro portátil. El precio del disco duro que Juan necesita es de $340.000 y sobre este valor aplica un descuento del 15%. ¿El dinero con el que Juan cuenta es suficiente para comprar el disco?\n",
    "\n",
    "Si la respuesta es afirmativa. ¿Cuánto dinero le sobra por la compra?"
   ]
  },
  {
   "cell_type": "code",
   "execution_count": 3,
   "metadata": {},
   "outputs": [
    {
     "name": "stdout",
     "output_type": "stream",
     "text": [
      "¿Cuál es el valor del descuento?:  51000\n",
      "El valor del descuento es 51000.0\n",
      "¿Cuál es el precio por pagar?:  289000\n",
      "El precio por pagar es 289000.0\n",
      "¿Cuánto dinero le sobra por la compra?11000\n",
      "El dinero es suficiente para comprar el disco duro y sobran 11000.0\n"
     ]
    }
   ],
   "source": [
    "D1=input(\"¿Cuál es el valor del descuento?:  \") #Descuento situación 2\n",
    "D1=float(D1) \n",
    "situacion2()"
   ]
  },
  {
   "cell_type": "markdown",
   "metadata": {},
   "source": [
    "Para saber el valor del descuento, se calcula el 15% al precio del disco duro, es decir, \n",
    "\n",
    "\\begin{equation*}\n",
    "$340.000 \\times \\dfrac{15}{100} = $340000 \\times 0.15 = $ 51000\n",
    "\\end{equation*}\n",
    "\n",
    "luego, el descuento será de $51.000. Ahora, para determinar el precio por pagar, restamos el precio inicial y el descuento:\n",
    "\n",
    "\\begin{equation*}\n",
    "$340.000 - $51.000 = $289.000\n",
    "\\end{equation*}\n",
    "\n",
    "El precio que debe pagar Juan por el disco duro es de $\\$289.000.$\n",
    "\n",
    "Como Juan tenía disponibles $\\$300.000$ para la compra, se concluye que este dinero es suficiente y además, que le sobran $11.000, porque:\n",
    "\n",
    "\\begin{equation*}\n",
    "$300.000 - $289.000 = $11.000\n",
    "\\end{equation*}\n"
   ]
  },
  {
   "cell_type": "markdown",
   "metadata": {},
   "source": [
    "## Definición ecuación\n",
    "\n",
    "***La ecuación*** resulta ser el mecanismo formal que me permitió descubrir cantidades desconocidas, consiste en una igualdad de expresiones algebraicas donde las variables representan un valor incógnito que encontramos con ayuda de los principios enunciados anteriormente y operaciones algebraicas. \n",
    "\n",
    "En el caso de la ecuación lineal nos referimos a una igualdad de la forma:\n",
    "\\begin{equation*}\n",
    "ax+b = 0.\n",
    "\\end{equation*}"
   ]
  },
  {
   "cell_type": "markdown",
   "metadata": {},
   "source": [
    "## Algoritmo para solucionar una ecuación lineal"
   ]
  },
  {
   "cell_type": "markdown",
   "metadata": {
    "collapsed": true
   },
   "source": [
    " Llevar la siguiente ecuación a su forma estándar $ax+b=0$ e identifique los valores $a$ y  $b$, posteriormente determine la solución real de la ecuación, si es posible :\n",
    " \n",
    "$$3x+3(2-4x)=5(x-4)+1$$\n",
    "\n",
    "**Solución:**\n",
    "\n",
    "  \\begin{split}\n",
    "\t\t  3x+3(2-4x)&=5(x-4)+1 \\\\\n",
    "\t\t  3x+6-12x&=5x-20+1 \\\\\n",
    "\t\t  -9x+6&=5x-19 \\\\\n",
    "\t\t  -9x-5x&=-19-6 \\\\\n",
    "\t\t  -14x&=-25\\\\\n",
    "          -14x+25&=0\n",
    "\t\t\\end{split}\n",
    "Por lo tanto:\n",
    " $a=-14$ y $b=25$\t\t\n",
    "Con lo cual la solución de la ecuación es  $x=\\frac{-b}{a}$:\n",
    "$$x=\\frac{-25}{-14}=\\frac{25}{14}$$\n",
    "\t\t\n",
    "\t\t\n",
    "\n",
    "\t\n",
    "\t"
   ]
  },
  {
   "cell_type": "markdown",
   "metadata": {},
   "source": [
    "## Preliminar de programación - Funciones -\n",
    "\n",
    "Un mecanismo que permite utilizar el algoritmo para solucionar una ecuación lineal en Python para varios tipos de ecuaciones es la función. Con esta estructura la máquina espera uno argumentos de entrada, de acuerdo con lo que recibe ejecuta unos pasos y finalmente produce un argumento de salida.\n",
    "\n",
    "LA estructura para definirlas es la siguiente:\n",
    "\n",
    "```\n",
    "def nombre_de_la_funcion(ENTRADA):\n",
    "    Pasos a realizar\n",
    "    return SALIDA\n",
    "```\n",
    "\n",
    "**Ejemplo 1** el siguiente código define una función que recibe un texto y en su parte final pone lo que mide:\n"
   ]
  },
  {
   "cell_type": "code",
   "execution_count": 4,
   "metadata": {},
   "outputs": [],
   "source": [
    "def cuantomide(texto):\n",
    "    n=len(texto)\n",
    "    print(texto, \"tiene\",n,\"caracteres\")\n",
    "    return n\n",
    "    "
   ]
  },
  {
   "cell_type": "code",
   "execution_count": 5,
   "metadata": {},
   "outputs": [
    {
     "name": "stdout",
     "output_type": "stream",
     "text": [
      "Universidad Externado tiene 21 caracteres\n"
     ]
    },
    {
     "data": {
      "text/plain": [
       "21"
      ]
     },
     "execution_count": 5,
     "metadata": {},
     "output_type": "execute_result"
    }
   ],
   "source": [
    "cuantomide(\"Universidad Externado\")"
   ]
  },
  {
   "cell_type": "markdown",
   "metadata": {},
   "source": [
    "Veamos que dice acerca de la frase \"Métodos Cuantitativos en Gestión\":"
   ]
  },
  {
   "cell_type": "code",
   "execution_count": 14,
   "metadata": {},
   "outputs": [
    {
     "name": "stdout",
     "output_type": "stream",
     "text": [
      "Métodos Cuantitativos en Gestión tiene 32 caracteres\n"
     ]
    },
    {
     "data": {
      "text/plain": [
       "32"
      ]
     },
     "execution_count": 14,
     "metadata": {},
     "output_type": "execute_result"
    }
   ],
   "source": [
    "cuantomide(\"Métodos Cuantitativos en Gestión\")"
   ]
  },
  {
   "cell_type": "markdown",
   "metadata": {},
   "source": [
    "**Ejemplo 2** ahora hacemos un código que a cualquier valor le sume 5 y lo obtenido lo divida por 10:"
   ]
  },
  {
   "cell_type": "code",
   "execution_count": 7,
   "metadata": {},
   "outputs": [],
   "source": [
    "def suma5divide10(valor):\n",
    "    resultado=(valor+5)/10\n",
    "    return resultado"
   ]
  },
  {
   "cell_type": "code",
   "execution_count": 8,
   "metadata": {},
   "outputs": [
    {
     "data": {
      "text/plain": [
       "1.0"
      ]
     },
     "execution_count": 8,
     "metadata": {},
     "output_type": "execute_result"
    }
   ],
   "source": [
    "suma5divide10(5)"
   ]
  },
  {
   "cell_type": "code",
   "execution_count": 9,
   "metadata": {},
   "outputs": [
    {
     "data": {
      "text/plain": [
       "10.5"
      ]
     },
     "execution_count": 9,
     "metadata": {},
     "output_type": "execute_result"
    }
   ],
   "source": [
    "suma5divide10(100)"
   ]
  },
  {
   "cell_type": "markdown",
   "metadata": {},
   "source": [
    "Apliquemoslo en 5, 10 y 15:"
   ]
  },
  {
   "cell_type": "code",
   "execution_count": 16,
   "metadata": {},
   "outputs": [
    {
     "data": {
      "text/plain": [
       "1.0"
      ]
     },
     "execution_count": 16,
     "metadata": {},
     "output_type": "execute_result"
    }
   ],
   "source": [
    "suma5divide10(5)"
   ]
  },
  {
   "cell_type": "code",
   "execution_count": 17,
   "metadata": {},
   "outputs": [
    {
     "data": {
      "text/plain": [
       "1.5"
      ]
     },
     "execution_count": 17,
     "metadata": {},
     "output_type": "execute_result"
    }
   ],
   "source": [
    "suma5divide10(10)"
   ]
  },
  {
   "cell_type": "code",
   "execution_count": 18,
   "metadata": {},
   "outputs": [
    {
     "data": {
      "text/plain": [
       "2.0"
      ]
     },
     "execution_count": 18,
     "metadata": {},
     "output_type": "execute_result"
    }
   ],
   "source": [
    "suma5divide10(15)"
   ]
  },
  {
   "cell_type": "markdown",
   "metadata": {
    "solution": "hidden",
    "solution2": "shown",
    "solution2_first": true,
    "solution_first": true
   },
   "source": [
    "**Ejercicio 1:**\n",
    "Realice un programa que reciba dos parámetros $a$ y $b$ y determine la solución de la ecuación si existe, en caso de que no exista debe arrojar un mensaje que diga: ''La ecuación no tiene solución'' y en caso de que tenga infinitas soluciones debe arrojar también un mensaje que diga: ''La ecuación tiene infinitas soluciones reales, esto es, cualquier número real satisface la ecuación''."
   ]
  },
  {
   "cell_type": "code",
   "execution_count": 4,
   "metadata": {
    "scrolled": true,
    "solution": "hidden",
    "solution2": "shown",
    "solution_first": true
   },
   "outputs": [],
   "source": [
    "from fractions import Fraction\n",
    "def Sol_ec_lineal(a,b):\n",
    "    if a==0 and b==0:\n",
    "        print('La ecuación tiene infinitas soluciones reales, esto es, cualquier número real satisface la ecuación.')\n",
    "    elif b==0:\n",
    "        print('La solución, única, es: x =', 0)\n",
    "    elif a==0:\n",
    "        print('La ecuación no tiene solución.')        \n",
    "    else:\n",
    "        print('La solución, única, es: x=', round(-b/a,3))\n",
    "    \n",
    "    "
   ]
  },
  {
   "cell_type": "markdown",
   "metadata": {},
   "source": [
    "### Ejemplos\n",
    "Lleve las siguientes ecuaciones a su forma estándar y determine las soluciones, si existen, haciendo uso del programa:\n",
    "\n",
    "1. $3x+2=0$.\n",
    "2. $2x+6=2(x+5)$\n",
    "3. $-3(-x-2)=x+2+2(x+2)$"
   ]
  },
  {
   "cell_type": "markdown",
   "metadata": {},
   "source": [
    "#### Soluciones: "
   ]
  },
  {
   "cell_type": "markdown",
   "metadata": {},
   "source": [
    "##### Ejemplo 1: \n",
    "Puesto que la ecuación ya está en la forma estándar, entonces determinamos $a=3$ y $b=2$. Posteriormente ingresamos estos valores en el programa y determinamos su solución, si es que existe."
   ]
  },
  {
   "cell_type": "code",
   "execution_count": 5,
   "metadata": {},
   "outputs": [
    {
     "name": "stdout",
     "output_type": "stream",
     "text": [
      "La solución, única, es: x= -0.667\n"
     ]
    }
   ],
   "source": [
    "Sol_ec_lineal(1/2,1/3)"
   ]
  },
  {
   "cell_type": "markdown",
   "metadata": {},
   "source": [
    "##### Ejemplo 2"
   ]
  },
  {
   "cell_type": "markdown",
   "metadata": {},
   "source": [
    "Transformamos la ecuación hasta llevarla a su forma estándar: \n",
    "\n",
    "$\\rightarrow$ $2x+6=2(x+5)$\n",
    "\n",
    "$\\rightarrow$ $2x+6=2x+10$\n",
    "\n",
    "$\\rightarrow$ $0-4=0$\n",
    "\n",
    "Que en su forma estándar equivale a :\n",
    "\n",
    "$\\rightarrow$ $0x-4=0$\n",
    "\n",
    "Con lo cual $a=0$ y $b=-4$. Ingresamos los parámetros en el programa y determinamos la solución, si existe.\n",
    "\n",
    "\n"
   ]
  },
  {
   "cell_type": "code",
   "execution_count": null,
   "metadata": {},
   "outputs": [],
   "source": [
    "Sol_ec_lineal(0,-4)"
   ]
  },
  {
   "cell_type": "markdown",
   "metadata": {},
   "source": [
    "##### Ejemplo 3"
   ]
  },
  {
   "cell_type": "markdown",
   "metadata": {},
   "source": [
    "Transformamos la ecuación hasta llevarla a su forma estándar: \n",
    "\n",
    "$\\rightarrow$ $-3(-x-2)=x+2+2(x+2)$\n",
    "\n",
    "$\\rightarrow$ $3x+6=x+2+2x+4$\n",
    "\n",
    "$\\rightarrow$ $3x+6=3x+6$\n",
    "\n",
    "$\\rightarrow$ $0=0$\n",
    "\n",
    "Que en su forma estándar equivale a:\n",
    "\n",
    "$\\rightarrow$ $0x+0=0$\n",
    "\n",
    "Con lo cual $a=0$ y $b=0$. Ingresamos los parámetros en el programa y determinamos la solución, si existe.\n",
    "\n",
    "\n",
    "\n",
    "\n"
   ]
  },
  {
   "cell_type": "code",
   "execution_count": null,
   "metadata": {},
   "outputs": [],
   "source": [
    "Sol_ec_lineal(0,0)"
   ]
  },
  {
   "cell_type": "markdown",
   "metadata": {},
   "source": [
    "### Ejercicios adicionales\n",
    "\n",
    "#### Determine las soluciones, si existen, de la siguientes ecuaciones:\n",
    "\n",
    "####  1. $4x+8=20$.\n",
    "####  2. $4-3x=100$.\n",
    "####  3. $-4x-5=-5$.\n",
    "####  4. $11-3x=9-x$.\n",
    "####  5. $2x-3=x+5$.\n",
    "####  6. $\\frac{x+1}{2}=4x$.\n",
    "####  7. $\\frac{1}{2}x+\\frac{2}{3}=-\\frac{2}{3}$.\n",
    "####  8. $0,1x+3,2=0,5$.\n",
    "####  9. $0,2x+4,5=6,7-0,1x$.\n",
    "####  10. $\\frac{5}{x}-\\frac{2}{x}=\\frac{5}{8}$.\n",
    "####  11. $6x-8=-18$.\n",
    "####  12. $\\frac{x-1}{2}+\\frac{2x-3}{4}=5$.\n",
    "####  13. $3-x=6$.\n",
    "####  14. $3(x-5)=4x-(4+x)$.\n"
   ]
  },
  {
   "cell_type": "markdown",
   "metadata": {},
   "source": [
    "### Problemas de aplicación\n",
    "\n",
    "1. Pedro invierte   $10.000.000 en títulos valores. Una parte del dinero a una tasa del 5,5 % y el resto al 9 %. Si el interés generado de estas dos inversiones suma \\$811.000, ¿cuánto dinero invirtió Pedro en cada tasa?\n",
    "\n",
    "2. Un par de zapatos tienen etiquetado un descuento del 30 %. Si el precio del par de zapatos después del descuento es de \\$169.999, ¿cuál era el precio inicial del par de zapatos?\n",
    "\n",
    "3. La suma de tres números consecutivos es 474. ¿Cuáles son los números?\n",
    "\n",
    "4. Un joven tiene en su acumulado del 80 % una calificación de 2.7, ¿cuánto es lo mínimo que debe sacar en el examen final, el cual tiene un valor del 20 %, si quiere aprobar la materia?\n",
    "\n",
    "5. En una fábrica se producen 1.000 pares zapatos donde debe invertir \\$150 para producir cada par. La fábrica vendió 400 pares de zapatos obteniendo una ganancia del 25 %. ¿A qué precio necesitará vender los otros (600) pares de zapatos si se desea que la utilidad total sea del 30%?"
   ]
  }
 ],
 "metadata": {
  "author": "",
  "kernelspec": {
   "display_name": "Python 3",
   "language": "python",
   "name": "python3"
  },
  "language_info": {
   "codemirror_mode": {
    "name": "ipython",
    "version": 3
   },
   "file_extension": ".py",
   "mimetype": "text/x-python",
   "name": "python",
   "nbconvert_exporter": "python",
   "pygments_lexer": "ipython3",
   "version": "3.7.4"
  },
  "latex_envs": {
   "LaTeX_envs_menu_present": true,
   "autoclose": false,
   "autocomplete": true,
   "bibliofile": "biblio.bib",
   "cite_by": "apalike",
   "current_citInitial": 1,
   "eqLabelWithNumbers": true,
   "eqNumInitial": 1,
   "hotkeys": {
    "equation": "Ctrl-E",
    "itemize": "Ctrl-I"
   },
   "labels_anchors": false,
   "latex_user_defs": false,
   "report_style_numbering": false,
   "user_envs_cfg": false
  },
  "toc": {
   "base_numbering": 1,
   "nav_menu": {},
   "number_sections": true,
   "sideBar": true,
   "skip_h1_title": false,
   "title_cell": "Table of Contents",
   "title_sidebar": "Contents",
   "toc_cell": false,
   "toc_position": {},
   "toc_section_display": true,
   "toc_window_display": false
  }
 },
 "nbformat": 4,
 "nbformat_minor": 2
}
