{
 "cells": [
  {
   "cell_type": "markdown",
   "metadata": {},
   "source": [
    "# Un calculador rápido de IVA\n",
    "\n",
    "*Carlos Isaac Zainea*\n",
    "\n",
    "En lo que sigue resolvemos retos sencillo usando Python, lea cuidadosamente la situación y junto con su profesor proponga una posible solución.\n",
    "\n",
    "1. Conocer el precio real de un producto:\n",
    "\n",
    "$$P=r+0.19r$$\n",
    "\n",
    "Si $r=40.000$, el precio a pagar, $P$ sería:\n",
    "\n",
    "$$P=(40.000)+0.19(40.000)$$"
   ]
  },
  {
   "cell_type": "code",
   "execution_count": 1,
   "metadata": {},
   "outputs": [
    {
     "data": {
      "text/plain": [
       "47600.0"
      ]
     },
     "execution_count": 1,
     "metadata": {},
     "output_type": "execute_result"
    }
   ],
   "source": [
    "P=40000+0.19*40000\n",
    "P"
   ]
  },
  {
   "cell_type": "markdown",
   "metadata": {},
   "source": [
    "Si estoy en el otro caso, en que conozoco $P$, supongamos $P=50.000$, entonces:\n",
    "\n",
    "$$r=\\frac{50000}{1.19}$$"
   ]
  },
  {
   "cell_type": "code",
   "execution_count": 2,
   "metadata": {},
   "outputs": [
    {
     "data": {
      "text/plain": [
       "42016.80672268908"
      ]
     },
     "execution_count": 2,
     "metadata": {},
     "output_type": "execute_result"
    }
   ],
   "source": [
    "r=50000/1.19\n",
    "r"
   ]
  },
  {
   "cell_type": "code",
   "execution_count": 3,
   "metadata": {},
   "outputs": [
    {
     "data": {
      "text/plain": [
       "11000.0"
      ]
     },
     "execution_count": 3,
     "metadata": {},
     "output_type": "execute_result"
    }
   ],
   "source": [
    "x=300000-340000*0.85\n",
    "x"
   ]
  },
  {
   "cell_type": "code",
   "execution_count": 4,
   "metadata": {},
   "outputs": [
    {
     "name": "stdout",
     "output_type": "stream",
     "text": [
      "El disco vale: 250000\n",
      "Felicidades por tu nuevo disco. Te sobran:  87500.0\n"
     ]
    }
   ],
   "source": [
    "p=input(\"El disco vale: \")\n",
    "p=float(p)\n",
    "x=300000-0.85*p \n",
    "if x<0:\n",
    "    print(\"No te alcanza, falta: \",-x)\n",
    "else:\n",
    "    print(\"Felicidades por tu nuevo disco. Te sobran: \",x)\n"
   ]
  }
 ],
 "metadata": {
  "kernelspec": {
   "display_name": "Python 3",
   "language": "python",
   "name": "python3"
  },
  "language_info": {
   "codemirror_mode": {
    "name": "ipython",
    "version": 3
   },
   "file_extension": ".py",
   "mimetype": "text/x-python",
   "name": "python",
   "nbconvert_exporter": "python",
   "pygments_lexer": "ipython3",
   "version": "3.7.6"
  }
 },
 "nbformat": 4,
 "nbformat_minor": 2
}
